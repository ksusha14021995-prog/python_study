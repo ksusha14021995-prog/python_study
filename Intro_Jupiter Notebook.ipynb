{
 "cells": [
  {
   "cell_type": "code",
   "execution_count": 6,
   "id": "62955e99-6712-47f2-a51a-3f81817cbf6f",
   "metadata": {
    "scrolled": true
   },
   "outputs": [
    {
     "name": "stdout",
     "output_type": "stream",
     "text": [
      "Нечетное\n"
     ]
    }
   ],
   "source": [
    "#проверка четности числа \n",
    "\n",
    "num = 13\n",
    "\n",
    "if num % 2 == 0:\n",
    "    print('Четное')\n",
    "else:\n",
    "    print('Нечетное')"
   ]
  },
  {
   "cell_type": "markdown",
   "id": "f4729e40-e72a-4d6c-8401-a2406d9e171c",
   "metadata": {},
   "source": [
    "some_names = ['John', 'James', 'Linda']"
   ]
  },
  {
   "cell_type": "code",
   "execution_count": 8,
   "id": "ccc4a3c0-8e3f-42a4-bc54-a3541287e09d",
   "metadata": {},
   "outputs": [
    {
     "data": {
      "text/plain": [
       "['James', 'John', 'Linda']"
      ]
     },
     "execution_count": 8,
     "metadata": {},
     "output_type": "execute_result"
    }
   ],
   "source": [
    "some_names.sort()\n",
    "some_names"
   ]
  },
  {
   "cell_type": "code",
   "execution_count": 10,
   "id": "547ce55c-b2d3-4158-98bb-f2744648332f",
   "metadata": {},
   "outputs": [],
   "source": [
    "name = 'John'"
   ]
  },
  {
   "cell_type": "code",
   "execution_count": 11,
   "id": "b7a9aafa-b86b-4e37-8874-71f0af320394",
   "metadata": {},
   "outputs": [
    {
     "data": {
      "text/plain": [
       "'john'"
      ]
     },
     "execution_count": 11,
     "metadata": {},
     "output_type": "execute_result"
    }
   ],
   "source": [
    "result = name.lower()\n",
    "result"
   ]
  },
  {
   "cell_type": "code",
   "execution_count": 12,
   "id": "0d100162-a380-4fea-8093-2cab2eac0d40",
   "metadata": {},
   "outputs": [
    {
     "name": "stdout",
     "output_type": "stream",
     "text": [
      "None\n"
     ]
    }
   ],
   "source": [
    "some_names = ['John', 'James', 'Linda']\n",
    "result = some_names.sort()\n",
    "print(result)"
   ]
  }
 ],
 "metadata": {
  "kernelspec": {
   "display_name": "Python [conda env:base] *",
   "language": "python",
   "name": "conda-base-py"
  },
  "language_info": {
   "codemirror_mode": {
    "name": "ipython",
    "version": 3
   },
   "file_extension": ".py",
   "mimetype": "text/x-python",
   "name": "python",
   "nbconvert_exporter": "python",
   "pygments_lexer": "ipython3",
   "version": "3.13.5"
  }
 },
 "nbformat": 4,
 "nbformat_minor": 5
}
