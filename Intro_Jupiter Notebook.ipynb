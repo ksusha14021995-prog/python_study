{
 "cells": [
  {
   "cell_type": "code",
   "execution_count": 6,
   "id": "62955e99-6712-47f2-a51a-3f81817cbf6f",
   "metadata": {
    "scrolled": true
   },
   "outputs": [
    {
     "name": "stdout",
     "output_type": "stream",
     "text": [
      "Нечетное\n"
     ]
    }
   ],
   "source": [
    "#проверка четности числа \n",
    "\n",
    "num = 13\n",
    "\n",
    "if num % 2 == 0:\n",
    "    print('Четное')\n",
    "else:\n",
    "    print('Нечетное')"
   ]
  },
  {
   "cell_type": "code",
   "execution_count": null,
   "id": "b79b4e73-5062-4aeb-8ab1-84cf476034d7",
   "metadata": {},
   "outputs": [],
   "source": [
    "some_names = ['John', 'James', 'Linda']"
   ]
  },
  {
   "cell_type": "code",
   "execution_count": 8,
   "id": "ccc4a3c0-8e3f-42a4-bc54-a3541287e09d",
   "metadata": {},
   "outputs": [
    {
     "data": {
      "text/plain": [
       "['James', 'John', 'Linda']"
      ]
     },
     "execution_count": 8,
     "metadata": {},
     "output_type": "execute_result"
    }
   ],
   "source": [
    "some_names.sort()\n",
    "some_names"
   ]
  },
  {
   "cell_type": "code",
   "execution_count": 10,
   "id": "547ce55c-b2d3-4158-98bb-f2744648332f",
   "metadata": {},
   "outputs": [],
   "source": [
    "name = 'John'"
   ]
  },
  {
   "cell_type": "code",
   "execution_count": 11,
   "id": "b7a9aafa-b86b-4e37-8874-71f0af320394",
   "metadata": {},
   "outputs": [
    {
     "data": {
      "text/plain": [
       "'john'"
      ]
     },
     "execution_count": 11,
     "metadata": {},
     "output_type": "execute_result"
    }
   ],
   "source": [
    "result = name.lower()\n",
    "result"
   ]
  },
  {
   "cell_type": "code",
   "execution_count": 12,
   "id": "0d100162-a380-4fea-8093-2cab2eac0d40",
   "metadata": {},
   "outputs": [
    {
     "name": "stdout",
     "output_type": "stream",
     "text": [
      "None\n"
     ]
    }
   ],
   "source": [
    "some_names = ['John', 'James', 'Linda']\n",
    "result = some_names.sort()\n",
    "print(result)"
   ]
  },
  {
   "cell_type": "markdown",
   "id": "8daee31a-94dc-42a0-ab0e-9f892a8785f5",
   "metadata": {},
   "source": [
    "### Тема Введение в типы данных "
   ]
  },
  {
   "cell_type": "code",
   "execution_count": 19,
   "id": "717168a0-6e58-43bd-9224-8a34c63750d4",
   "metadata": {},
   "outputs": [
    {
     "name": "stdout",
     "output_type": "stream",
     "text": [
      "Моя годовая зп 1000 у.е\n"
     ]
    }
   ],
   "source": [
    "salary = 1000\n",
    "\n",
    "print('Моя годовая зп', salary, 'у.е')"
   ]
  },
  {
   "cell_type": "code",
   "execution_count": 18,
   "id": "afa1dc56-cf21-462b-b96d-081ec57bc3ef",
   "metadata": {},
   "outputs": [
    {
     "name": "stdout",
     "output_type": "stream",
     "text": [
      "Моя годовая зп 1000 у.е\n"
     ]
    }
   ],
   "source": [
    "print('Моя годовая зп ' + str(salary) + ' у.е')"
   ]
  },
  {
   "cell_type": "code",
   "execution_count": 20,
   "id": "06119ea3-7da0-4b81-8f29-e40d8f25b1fe",
   "metadata": {},
   "outputs": [
    {
     "data": {
      "text/plain": [
       "1100"
      ]
     },
     "execution_count": 20,
     "metadata": {},
     "output_type": "execute_result"
    }
   ],
   "source": [
    "int('1000') + 100"
   ]
  },
  {
   "cell_type": "code",
   "execution_count": 23,
   "id": "12a642be-792b-4f35-a047-9c74d3b21e47",
   "metadata": {},
   "outputs": [
    {
     "name": "stdout",
     "output_type": "stream",
     "text": [
      "1\n"
     ]
    }
   ],
   "source": [
    "#неявное преобразование типов \n",
    "print(1 + False)"
   ]
  },
  {
   "cell_type": "markdown",
   "id": "149bd382-4749-4838-8ac5-4e939de28cab",
   "metadata": {},
   "source": [
    "#### Тема Операции со строками"
   ]
  },
  {
   "cell_type": "code",
   "execution_count": 24,
   "id": "bbfcf09f-9f9e-4ec2-a869-9672e0afb5bf",
   "metadata": {},
   "outputs": [
    {
     "data": {
      "text/plain": [
       "3"
      ]
     },
     "execution_count": 24,
     "metadata": {},
     "output_type": "execute_result"
    }
   ],
   "source": [
    "1 + 2 "
   ]
  },
  {
   "cell_type": "markdown",
   "id": "5e5b8383-cf84-4205-9a29-a214747e8af2",
   "metadata": {},
   "source": [
    "'1' + '2'"
   ]
  },
  {
   "cell_type": "code",
   "execution_count": 26,
   "id": "fb6eb3b3-50d6-4890-82c1-1090bb801e87",
   "metadata": {},
   "outputs": [],
   "source": [
    "my_string = 'Hello, World'"
   ]
  },
  {
   "cell_type": "code",
   "execution_count": 33,
   "id": "b3c75aed-2468-4e83-ad87-ec943c0287b7",
   "metadata": {},
   "outputs": [
    {
     "name": "stdout",
     "output_type": "stream",
     "text": [
      "Hello, World\n",
      "hello, world\n",
      "HELLO, WORLD\n",
      "Hello, world\n",
      "Goodbye, World\n"
     ]
    },
    {
     "data": {
      "text/plain": [
       "12"
      ]
     },
     "execution_count": 33,
     "metadata": {},
     "output_type": "execute_result"
    }
   ],
   "source": [
    "print(my_string)\n",
    "print(my_string.lower())\n",
    "print(my_string.upper())\n",
    "print(my_string.capitalize())\n",
    "print(my_string.replace('Hello', 'Goodbye'))\n",
    "len(my_string)"
   ]
  },
  {
   "cell_type": "markdown",
   "id": "3c84f509-f010-4de9-9f12-8b533268b8c9",
   "metadata": {},
   "source": [
    "#### Тема Индексация и срезы строк"
   ]
  },
  {
   "cell_type": "code",
   "execution_count": 36,
   "id": "6c77e9b3-b0b0-48ed-b0b4-3f29ef271ce7",
   "metadata": {},
   "outputs": [
    {
     "name": "stdout",
     "output_type": "stream",
     "text": [
      "Лр\n"
     ]
    }
   ],
   "source": [
    "my_string = 'Люблю грозу в начале мая'\n",
    "print(my_string[0] + my_string[7])"
   ]
  },
  {
   "cell_type": "code",
   "execution_count": 40,
   "id": "7eb09648-4961-4831-8025-86c5c55b359d",
   "metadata": {},
   "outputs": [
    {
     "data": {
      "text/plain": [
       "'Люблю'"
      ]
     },
     "execution_count": 40,
     "metadata": {},
     "output_type": "execute_result"
    }
   ],
   "source": [
    "my_string[0:8:2]\n",
    "my_string[0:5]\n",
    "my_string[6:]\n",
    "my_string[:5]"
   ]
  },
  {
   "cell_type": "markdown",
   "id": "290b8b1a-33b8-4c2c-8fe9-f5706b4389e9",
   "metadata": {},
   "source": [
    "##### Проверка на вхождение элемента в объект"
   ]
  },
  {
   "cell_type": "code",
   "execution_count": 47,
   "id": "59d44e77-a701-47e1-b05d-0c3db2f63c6a",
   "metadata": {},
   "outputs": [
    {
     "name": "stdout",
     "output_type": "stream",
     "text": [
      "find\n"
     ]
    }
   ],
   "source": [
    "target_string = 'гроз'\n",
    "\n",
    "if target_string in my_string:\n",
    "    print('find')"
   ]
  },
  {
   "cell_type": "markdown",
   "id": "3ad13db3-ded7-4c93-bbb1-ea5bd34572d6",
   "metadata": {},
   "source": [
    "##### f-строки"
   ]
  },
  {
   "cell_type": "code",
   "execution_count": 51,
   "id": "ef8251b9-7b9b-4440-ba3f-e6464ce7437b",
   "metadata": {},
   "outputs": [
    {
     "name": "stdout",
     "output_type": "stream",
     "text": [
      "Hello, (name.capitalize()), i know python a bit\n",
      "<class 'str'>\n"
     ]
    }
   ],
   "source": [
    "name = 'oleg'\n",
    "lang = 'python'\n",
    "\n",
    "t = f\"Hello, (name.capitalize()), i know {lang} a bit\"\n",
    "print(t)\n",
    "\n",
    "print(type(t))"
   ]
  },
  {
   "cell_type": "markdown",
   "id": "f037b756-a7bb-4014-8059-94c635282811",
   "metadata": {},
   "source": [
    "#### Тема Списки "
   ]
  },
  {
   "cell_type": "code",
   "execution_count": 52,
   "id": "c4344d93-5d6a-4f0d-a153-010e4836d2be",
   "metadata": {},
   "outputs": [],
   "source": [
    "month_list = ['Jan', 'Feb', 'Mar', 'Apr', 'May', 'Jun', 'Jul', 'Aug', 'Sep']\n",
    "\n",
    "income_list = [13000, 14000, 14300, 15000, 13800, 13000, 14900, 15200, 15300]\n",
    "\n",
    "income_by_months = [['Jan', 13000], ['Feb', 14000], ['Mar', 14300], ['Apr', 15000], ['May', 13800],\n",
    "                    ['Jun', 13000], ['Jul', 14900], ['Aug', 15200], ['Sep', 15300]]"
   ]
  },
  {
   "cell_type": "code",
   "execution_count": 53,
   "id": "f9f77788-91bb-4c79-8f35-487f0dd4976b",
   "metadata": {},
   "outputs": [
    {
     "name": "stdout",
     "output_type": "stream",
     "text": [
      "<class 'list'>\n"
     ]
    }
   ],
   "source": [
    "print(type(month_list))"
   ]
  },
  {
   "cell_type": "code",
   "execution_count": 55,
   "id": "be4e705b-1da3-42fc-b468-20f281ee2e2e",
   "metadata": {},
   "outputs": [
    {
     "name": "stdout",
     "output_type": "stream",
     "text": [
      "['Jun', 13000]\n"
     ]
    }
   ],
   "source": [
    "# Индексациия элементов в списке \n",
    "print (income_by_months[-4])"
   ]
  },
  {
   "cell_type": "code",
   "execution_count": 59,
   "id": "8cbf5655-7a57-49ef-a740-cf864ac20752",
   "metadata": {},
   "outputs": [
    {
     "name": "stdout",
     "output_type": "stream",
     "text": [
      "[['Jan', 13000], ['Feb', 14000]]\n",
      "--------------\n",
      "[['Mar', 14300], ['Apr', 15000], ['May', 13800], ['Jun', 13000], ['Jul', 14900], ['Aug', 15200], ['Sep', 15300]]\n"
     ]
    }
   ],
   "source": [
    "# срезы \n",
    "print(income_by_months[0:2])\n",
    "print('-'*14)\n",
    "print(income_by_months[2:])\n"
   ]
  },
  {
   "cell_type": "code",
   "execution_count": 62,
   "id": "28173d51-3f5a-45e4-ab54-323143cd35d9",
   "metadata": {},
   "outputs": [
    {
     "name": "stdout",
     "output_type": "stream",
     "text": [
      "[['Jan', 13100], ['Feb', 14000], ['Mar', 14300], ['Apr', 15000], ['May', 13800], ['Jun', 13000], ['Jul', 14900], ['Aug', 15200], ['Sep', 15300]]\n"
     ]
    }
   ],
   "source": [
    "income_by_months[0] [1] = 13100\n",
    "print(income_by_months)"
   ]
  },
  {
   "cell_type": "code",
   "execution_count": 63,
   "id": "e4f11994-b8f9-4e66-94d6-868ad02276a9",
   "metadata": {},
   "outputs": [],
   "source": [
    "a, b, = [1, 2]"
   ]
  },
  {
   "cell_type": "code",
   "execution_count": 65,
   "id": "056520ab-5c46-4638-95b2-4f4832177a75",
   "metadata": {},
   "outputs": [
    {
     "name": "stdout",
     "output_type": "stream",
     "text": [
      "[['Jan', 13100], ['Feb', 14000], ['Mar', 14300], ['Apr', 15000], ['May', 13800], ['Jun', 13000], ['Jul', 14900], ['Aug', 15200], ['Sep', 15300], ['Nov', 13500], ['Dec', 17000]]\n"
     ]
    }
   ],
   "source": [
    "income_by_months_2 = [['Nov', 13500], ['Dec', 17000]]\n",
    "income_by_months = income_by_months + income_by_months_2\n",
    "print(income_by_months)"
   ]
  },
  {
   "cell_type": "markdown",
   "id": "81997c52-4c7e-4d06-8ce2-cec86901f4a5",
   "metadata": {},
   "source": [
    "# Индексациия элементов в списке "
   ]
  },
  {
   "cell_type": "code",
   "execution_count": null,
   "id": "af17bcef-3827-4dfe-a8ed-93476fdb0c23",
   "metadata": {},
   "outputs": [],
   "source": []
  }
 ],
 "metadata": {
  "kernelspec": {
   "display_name": "Python [conda env:base] *",
   "language": "python",
   "name": "conda-base-py"
  },
  "language_info": {
   "codemirror_mode": {
    "name": "ipython",
    "version": 3
   },
   "file_extension": ".py",
   "mimetype": "text/x-python",
   "name": "python",
   "nbconvert_exporter": "python",
   "pygments_lexer": "ipython3",
   "version": "3.13.5"
  }
 },
 "nbformat": 4,
 "nbformat_minor": 5
}
