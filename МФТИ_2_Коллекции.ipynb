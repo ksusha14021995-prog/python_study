{
  "nbformat": 4,
  "nbformat_minor": 0,
  "metadata": {
    "colab": {
      "provenance": [],
      "toc_visible": true,
      "collapsed_sections": [
        "LVVYjT-_1hyR",
        "t2PH3YtpjJbA",
        "0fhr_Gaji449",
        "7reF69ZknnJ0",
        "Mq69xVoKjXAB",
        "sWrxP8UtjXAK",
        "9J4aV2TQQUuP"
      ],
      "include_colab_link": true
    },
    "kernelspec": {
      "name": "python3",
      "display_name": "Python 3"
    },
    "language_info": {
      "name": "python"
    }
  },
  "cells": [
    {
      "cell_type": "markdown",
      "metadata": {
        "id": "view-in-github",
        "colab_type": "text"
      },
      "source": [
        "<a href=\"https://colab.research.google.com/github/ksusha14021995-prog/python_study/blob/main/%D0%9C%D0%A4%D0%A2%D0%98_2_%D0%9A%D0%BE%D0%BB%D0%BB%D0%B5%D0%BA%D1%86%D0%B8%D0%B8.ipynb\" target=\"_parent\"><img src=\"https://colab.research.google.com/assets/colab-badge.svg\" alt=\"Open In Colab\"/></a>"
      ]
    },
    {
      "cell_type": "markdown",
      "metadata": {
        "id": "nj-Dbw0uhJwe"
      },
      "source": [
        "# Списки"
      ]
    },
    {
      "cell_type": "code",
      "source": [
        "a = [1, 2, 3, 4, 5]"
      ],
      "metadata": {
        "id": "64b58JhvaOtz"
      },
      "execution_count": null,
      "outputs": []
    },
    {
      "cell_type": "code",
      "source": [
        "a = [1, 3.39, 'sdfuh', True, [1, 2, ], (1, 2)]\n",
        "a"
      ],
      "metadata": {
        "colab": {
          "base_uri": "https://localhost:8080/"
        },
        "id": "NdigcksnaThA",
        "outputId": "4f718f71-3849-4a17-ebfe-a67129c9356f"
      },
      "execution_count": null,
      "outputs": [
        {
          "output_type": "execute_result",
          "data": {
            "text/plain": [
              "[1, 3.39, 'sdfuh', True, [1, 2], (1, 2)]"
            ]
          },
          "metadata": {},
          "execution_count": 2
        }
      ]
    },
    {
      "cell_type": "markdown",
      "metadata": {
        "id": "ZEwuJ6MYhJwl"
      },
      "source": [
        "Список операций:"
      ]
    },
    {
      "cell_type": "code",
      "execution_count": null,
      "metadata": {
        "id": "HnhrgkHdhJwm",
        "outputId": "71b5dc61-022f-448f-d8bd-6c56af130d06",
        "colab": {
          "base_uri": "https://localhost:8080/"
        }
      },
      "outputs": [
        {
          "output_type": "execute_result",
          "data": {
            "text/plain": [
              "['append',\n",
              " 'clear',\n",
              " 'copy',\n",
              " 'count',\n",
              " 'extend',\n",
              " 'index',\n",
              " 'insert',\n",
              " 'pop',\n",
              " 'remove',\n",
              " 'reverse',\n",
              " 'sort']"
            ]
          },
          "metadata": {},
          "execution_count": 3
        }
      ],
      "source": [
        "[f for f in dir(list) if not f.startswith('__')]"
      ]
    },
    {
      "cell_type": "markdown",
      "metadata": {
        "id": "EbXCZ0shhJxC"
      },
      "source": [
        "## Изменение списка"
      ]
    },
    {
      "cell_type": "code",
      "execution_count": null,
      "metadata": {
        "id": "i0oN5zBkhJxD",
        "outputId": "e317d8a9-9422-4d04-aa41-d1a65ac7ddc8",
        "colab": {
          "base_uri": "https://localhost:8080/"
        }
      },
      "outputs": [
        {
          "output_type": "execute_result",
          "data": {
            "text/plain": [
              "['a', 'b', 'c', 'd']"
            ]
          },
          "metadata": {},
          "execution_count": 4
        }
      ],
      "source": [
        "letters = ['a', 'b', 'c', 'd']\n",
        "letters"
      ]
    },
    {
      "cell_type": "markdown",
      "metadata": {
        "id": "W3mmy4kMhJxE"
      },
      "source": [
        "Замена элемента:"
      ]
    },
    {
      "cell_type": "code",
      "execution_count": null,
      "metadata": {
        "id": "O1Os-Sr7hJxF",
        "outputId": "7d43845e-ff8a-48f3-adf3-c1de8de30cc9",
        "colab": {
          "base_uri": "https://localhost:8080/"
        }
      },
      "outputs": [
        {
          "output_type": "execute_result",
          "data": {
            "text/plain": [
              "['a', 'b', 'c', 'DD']"
            ]
          },
          "metadata": {},
          "execution_count": 5
        }
      ],
      "source": [
        "letters[3] = 'DD'\n",
        "letters"
      ]
    },
    {
      "cell_type": "code",
      "source": [
        "letters[4] = 'DD'\n",
        "letters"
      ],
      "metadata": {
        "colab": {
          "base_uri": "https://localhost:8080/",
          "height": 159
        },
        "id": "7HlDDT7UkIEl",
        "outputId": "111bd9b0-e855-4a6c-b9a5-31b4a2183035"
      },
      "execution_count": null,
      "outputs": [
        {
          "output_type": "error",
          "ename": "IndexError",
          "evalue": "list assignment index out of range",
          "traceback": [
            "\u001b[0;31m---------------------------------------------------------------------------\u001b[0m",
            "\u001b[0;31mIndexError\u001b[0m                                Traceback (most recent call last)",
            "\u001b[0;32m<ipython-input-5-97fbf412c2f1>\u001b[0m in \u001b[0;36m<cell line: 1>\u001b[0;34m()\u001b[0m\n\u001b[0;32m----> 1\u001b[0;31m \u001b[0mletters\u001b[0m\u001b[0;34m[\u001b[0m\u001b[0;36m4\u001b[0m\u001b[0;34m]\u001b[0m \u001b[0;34m=\u001b[0m \u001b[0;34m'DD'\u001b[0m\u001b[0;34m\u001b[0m\u001b[0;34m\u001b[0m\u001b[0m\n\u001b[0m\u001b[1;32m      2\u001b[0m \u001b[0mletters\u001b[0m\u001b[0;34m\u001b[0m\u001b[0;34m\u001b[0m\u001b[0m\n",
            "\u001b[0;31mIndexError\u001b[0m: list assignment index out of range"
          ]
        }
      ]
    },
    {
      "cell_type": "markdown",
      "metadata": {
        "id": "nFvmPKPZhJxG"
      },
      "source": [
        "Добавить значение _в начало_:"
      ]
    },
    {
      "cell_type": "code",
      "execution_count": null,
      "metadata": {
        "id": "wHTSg9s9hJxG",
        "outputId": "c5fbd056-e488-4cff-c0f5-36d575c42f17",
        "colab": {
          "base_uri": "https://localhost:8080/"
        }
      },
      "outputs": [
        {
          "output_type": "execute_result",
          "data": {
            "text/plain": [
              "['AA', 'a', 'b', 'c', 'DD']"
            ]
          },
          "metadata": {},
          "execution_count": 6
        }
      ],
      "source": [
        "letters.insert(0, 'AA')\n",
        "letters"
      ]
    },
    {
      "cell_type": "markdown",
      "metadata": {
        "id": "qWFGRHjZhJxG"
      },
      "source": [
        "Добавить значение _в конец_:"
      ]
    },
    {
      "cell_type": "code",
      "execution_count": null,
      "metadata": {
        "id": "eQp5cAGUhJxH",
        "outputId": "1a1cf310-a504-441c-84fa-5a781a4d9ef8",
        "colab": {
          "base_uri": "https://localhost:8080/"
        }
      },
      "outputs": [
        {
          "output_type": "execute_result",
          "data": {
            "text/plain": [
              "['AA', 'a', 'b', 'c', 'DD', 'ZZ']"
            ]
          },
          "metadata": {},
          "execution_count": 7
        }
      ],
      "source": [
        "letters.append('ZZ')\n",
        "letters"
      ]
    },
    {
      "cell_type": "markdown",
      "metadata": {
        "id": "lQnH6l_7hJxM"
      },
      "source": [
        "## Сортировка"
      ]
    },
    {
      "cell_type": "code",
      "execution_count": null,
      "metadata": {
        "id": "Pl6dzsIKhJxM",
        "outputId": "23572afb-9fe5-4444-8ee4-ab3571cfe6a4",
        "colab": {
          "base_uri": "https://localhost:8080/"
        }
      },
      "outputs": [
        {
          "output_type": "execute_result",
          "data": {
            "text/plain": [
              "[1, 3, 4, 5]"
            ]
          },
          "metadata": {},
          "execution_count": 8
        }
      ],
      "source": [
        "x = [5, 4, 1, 3]\n",
        "x.sort()\n",
        "x"
      ]
    },
    {
      "cell_type": "code",
      "source": [
        "x = x.sort()\n",
        "type(x)"
      ],
      "metadata": {
        "id": "en8WyBsYfjKT",
        "colab": {
          "base_uri": "https://localhost:8080/"
        },
        "outputId": "588cd9f3-6813-4674-b15a-99cd68b45531"
      },
      "execution_count": null,
      "outputs": [
        {
          "output_type": "execute_result",
          "data": {
            "text/plain": [
              "NoneType"
            ]
          },
          "metadata": {},
          "execution_count": 9
        }
      ]
    },
    {
      "cell_type": "markdown",
      "metadata": {
        "id": "m7uurVNbhJxN"
      },
      "source": [
        "Функция `sorted` создаёт копию и упорядочивает элементы копии, то есть основной список остаётся неизменным:"
      ]
    },
    {
      "cell_type": "code",
      "execution_count": null,
      "metadata": {
        "id": "btxjicxOhJxN",
        "outputId": "1104ca45-4af9-44ae-e2e4-8b1642251552",
        "colab": {
          "base_uri": "https://localhost:8080/"
        }
      },
      "outputs": [
        {
          "output_type": "stream",
          "name": "stdout",
          "text": [
            "x=[5, -4, 1, -3]\n",
            "x_sorted=[-4, -3, 1, 5]\n"
          ]
        }
      ],
      "source": [
        "x = [5, -4, 1, -3]\n",
        "x_sorted = sorted(x)\n",
        "\n",
        "print(f'x={x}')\n",
        "print(f'x_sorted={x_sorted}')"
      ]
    },
    {
      "cell_type": "markdown",
      "metadata": {
        "id": "cwswc--2hJxO"
      },
      "source": [
        "Обратный порядок задаётся с помощью параметра `reverse=True`:"
      ]
    },
    {
      "cell_type": "code",
      "execution_count": null,
      "metadata": {
        "id": "ZrzuQkuohJxP",
        "outputId": "7515dd89-c965-431c-b7ac-3ee2430f077e",
        "colab": {
          "base_uri": "https://localhost:8080/"
        }
      },
      "outputs": [
        {
          "output_type": "execute_result",
          "data": {
            "text/plain": [
              "[5, 4, 3, 1]"
            ]
          },
          "metadata": {},
          "execution_count": 11
        }
      ],
      "source": [
        "x = [5, 4, 1, 3]\n",
        "x.sort(reverse=True)\n",
        "x"
      ]
    },
    {
      "cell_type": "code",
      "source": [
        "sorted(x, reverse=True)"
      ],
      "metadata": {
        "colab": {
          "base_uri": "https://localhost:8080/"
        },
        "id": "H3Ow8GBmf2f3",
        "outputId": "e7b468f4-c59f-49d4-8c0c-a1fdbe869a55"
      },
      "execution_count": null,
      "outputs": [
        {
          "output_type": "execute_result",
          "data": {
            "text/plain": [
              "[5, 4, 3, 1]"
            ]
          },
          "metadata": {},
          "execution_count": 12
        }
      ]
    },
    {
      "cell_type": "markdown",
      "metadata": {
        "id": "0_4oC8BLhJxP"
      },
      "source": [
        "Иногда требуется отсортировать по собственному признаку - не прямо по исходным значениям, а производным от них. Например, сортировка по абсолютному значения числа:"
      ]
    },
    {
      "cell_type": "code",
      "source": [
        "abs(-10)"
      ],
      "metadata": {
        "colab": {
          "base_uri": "https://localhost:8080/"
        },
        "id": "8XX99F4TgAxP",
        "outputId": "85d55dad-176a-44ee-b98c-a978455cd6f3"
      },
      "execution_count": null,
      "outputs": [
        {
          "output_type": "execute_result",
          "data": {
            "text/plain": [
              "10"
            ]
          },
          "metadata": {},
          "execution_count": 16
        }
      ]
    },
    {
      "cell_type": "code",
      "execution_count": null,
      "metadata": {
        "id": "5G3iqDUShJxP",
        "outputId": "96c13ee1-5948-4e3e-cd72-24c8521e3219",
        "colab": {
          "base_uri": "https://localhost:8080/"
        }
      },
      "outputs": [
        {
          "output_type": "execute_result",
          "data": {
            "text/plain": [
              "[1, 15, -24, -53]"
            ]
          },
          "metadata": {},
          "execution_count": 17
        }
      ],
      "source": [
        "def myabs(y):\n",
        "    return abs(y)\n",
        "\n",
        "\n",
        "x = [15, -24, 1, -53]\n",
        "x.sort(key=myabs)\n",
        "x"
      ]
    },
    {
      "cell_type": "markdown",
      "metadata": {
        "id": "QV3sev_RhJxQ"
      },
      "source": [
        "или по длине строки:"
      ]
    },
    {
      "cell_type": "code",
      "source": [
        "def mylen(y):\n",
        "    return len(y)"
      ],
      "metadata": {
        "id": "c294e6NVgY9l"
      },
      "execution_count": null,
      "outputs": []
    },
    {
      "cell_type": "code",
      "execution_count": null,
      "metadata": {
        "id": "jQU21gQohJxQ",
        "outputId": "58ba7fa0-c108-42be-e0c5-5ea0c8b11c80",
        "colab": {
          "base_uri": "https://localhost:8080/"
        }
      },
      "outputs": [
        {
          "output_type": "execute_result",
          "data": {
            "text/plain": [
              "['plum', 'apple', 'banana', 'grapefruit']"
            ]
          },
          "metadata": {},
          "execution_count": 19
        }
      ],
      "source": [
        "x = ['apple', 'banana', 'plum', 'grapefruit']\n",
        "sorted(x, key=len)"
      ]
    },
    {
      "cell_type": "markdown",
      "metadata": {
        "id": "md2QYYYshJxQ"
      },
      "source": [
        "## Группировка элементов в список"
      ]
    },
    {
      "cell_type": "code",
      "source": [
        "x, y, z = [1, 2, 3, 4, 5]\n",
        "x, y, z"
      ],
      "metadata": {
        "colab": {
          "base_uri": "https://localhost:8080/",
          "height": 159
        },
        "id": "fNi6qFfkhkSM",
        "outputId": "4088ee66-8fec-40c8-dc21-abe80843626a"
      },
      "execution_count": null,
      "outputs": [
        {
          "output_type": "error",
          "ename": "ValueError",
          "evalue": "too many values to unpack (expected 3)",
          "traceback": [
            "\u001b[0;31m---------------------------------------------------------------------------\u001b[0m",
            "\u001b[0;31mValueError\u001b[0m                                Traceback (most recent call last)",
            "\u001b[0;32m/tmp/ipython-input-2548023245.py\u001b[0m in \u001b[0;36m<cell line: 0>\u001b[0;34m()\u001b[0m\n\u001b[0;32m----> 1\u001b[0;31m \u001b[0mx\u001b[0m\u001b[0;34m,\u001b[0m \u001b[0my\u001b[0m\u001b[0;34m,\u001b[0m \u001b[0mz\u001b[0m \u001b[0;34m=\u001b[0m \u001b[0;34m[\u001b[0m\u001b[0;36m1\u001b[0m\u001b[0;34m,\u001b[0m \u001b[0;36m2\u001b[0m\u001b[0;34m,\u001b[0m \u001b[0;36m3\u001b[0m\u001b[0;34m,\u001b[0m \u001b[0;36m4\u001b[0m\u001b[0;34m,\u001b[0m \u001b[0;36m5\u001b[0m\u001b[0;34m]\u001b[0m\u001b[0;34m\u001b[0m\u001b[0;34m\u001b[0m\u001b[0m\n\u001b[0m\u001b[1;32m      2\u001b[0m \u001b[0mx\u001b[0m\u001b[0;34m,\u001b[0m \u001b[0my\u001b[0m\u001b[0;34m,\u001b[0m \u001b[0mz\u001b[0m\u001b[0;34m\u001b[0m\u001b[0;34m\u001b[0m\u001b[0m\n",
            "\u001b[0;31mValueError\u001b[0m: too many values to unpack (expected 3)"
          ]
        }
      ]
    },
    {
      "cell_type": "code",
      "source": [
        "x"
      ],
      "metadata": {
        "colab": {
          "base_uri": "https://localhost:8080/"
        },
        "id": "tM2Sf2r-lUlW",
        "outputId": "0e2c549c-8923-464e-ab96-cf36fe26f73f"
      },
      "execution_count": null,
      "outputs": [
        {
          "output_type": "execute_result",
          "data": {
            "text/plain": [
              "[5, 4, 3, 1]"
            ]
          },
          "metadata": {},
          "execution_count": 14
        }
      ]
    },
    {
      "cell_type": "markdown",
      "metadata": {
        "id": "6zgtNKTNhJxR"
      },
      "source": [
        "Оператор `*` (splat, звёздочка) группирует элементы в список:"
      ]
    },
    {
      "cell_type": "code",
      "execution_count": null,
      "metadata": {
        "id": "knStZ-Q_hJxR",
        "outputId": "3081d97d-f3d9-4cd9-ea3b-c126a08298f4",
        "colab": {
          "base_uri": "https://localhost:8080/"
        }
      },
      "outputs": [
        {
          "output_type": "stream",
          "name": "stdout",
          "text": [
            "x=1\n",
            "y=[2, 3, 4]\n",
            "z=5\n"
          ]
        }
      ],
      "source": [
        "x, *y, z = [1, 2, 3, 4, 5]\n",
        "\n",
        "print(f'x={x}')\n",
        "print(f'y={y}')\n",
        "print(f'z={z}')"
      ]
    },
    {
      "cell_type": "markdown",
      "metadata": {
        "id": "feEaHP6OhJxR"
      },
      "source": [
        "и разгруппировывает:"
      ]
    },
    {
      "cell_type": "code",
      "execution_count": null,
      "metadata": {
        "id": "nMydOlElhJxS",
        "outputId": "00ab3321-d217-43d4-9718-01a3269a2449",
        "colab": {
          "base_uri": "https://localhost:8080/"
        }
      },
      "outputs": [
        {
          "output_type": "execute_result",
          "data": {
            "text/plain": [
              "[[1, 2, 3], 4, 5]"
            ]
          },
          "metadata": {},
          "execution_count": 16
        }
      ],
      "source": [
        "a = [1, 2, 3]\n",
        "[a, 4, 5]"
      ]
    },
    {
      "cell_type": "code",
      "execution_count": null,
      "metadata": {
        "id": "0IMcQH4vhJxT",
        "outputId": "69d07f7b-4404-41f3-e89f-ad5fe2e31a60",
        "colab": {
          "base_uri": "https://localhost:8080/"
        }
      },
      "outputs": [
        {
          "output_type": "execute_result",
          "data": {
            "text/plain": [
              "[1, 2, 3, 4, 5]"
            ]
          },
          "metadata": {},
          "execution_count": 17
        }
      ],
      "source": [
        "[*a, 4, 5]"
      ]
    },
    {
      "cell_type": "markdown",
      "metadata": {
        "id": "254Tt3vvhJxT"
      },
      "source": [
        "## Соединение списков"
      ]
    },
    {
      "cell_type": "markdown",
      "metadata": {
        "id": "hp0xOOIEhJxU"
      },
      "source": [
        "Можно объединить два списка на лету в новый, используя оператор `+`:"
      ]
    },
    {
      "cell_type": "code",
      "execution_count": null,
      "metadata": {
        "id": "8KiyECTOhJxU",
        "outputId": "fff0e143-d822-4bab-ae1f-67320ed99404",
        "colab": {
          "base_uri": "https://localhost:8080/"
        }
      },
      "outputs": [
        {
          "output_type": "execute_result",
          "data": {
            "text/plain": [
              "['a', 'b', 'c', 1, 2]"
            ]
          },
          "metadata": {},
          "execution_count": 18
        }
      ],
      "source": [
        "letters = ['a', 'b', 'c']\n",
        "nums = [1, 2]\n",
        "letters + nums"
      ]
    },
    {
      "cell_type": "code",
      "source": [
        "letters.extend(nums)"
      ],
      "metadata": {
        "id": "LGSvLvczlliY"
      },
      "execution_count": null,
      "outputs": []
    },
    {
      "cell_type": "code",
      "source": [
        "letters"
      ],
      "metadata": {
        "colab": {
          "base_uri": "https://localhost:8080/"
        },
        "id": "J4t8C5yMln2L",
        "outputId": "e22ab39c-8d41-4365-9ec2-b7751bcd7b92"
      },
      "execution_count": null,
      "outputs": [
        {
          "output_type": "execute_result",
          "data": {
            "text/plain": [
              "['a', 'b', 'c', 1, 2]"
            ]
          },
          "metadata": {},
          "execution_count": 20
        }
      ]
    },
    {
      "cell_type": "markdown",
      "metadata": {
        "id": "2Bp-rrvahJxW"
      },
      "source": [
        "Нельзя на лету соединить список и элемент:\n",
        "\n",
        "```python\n",
        "[1, 2, 3] + 4  # так нельзя\n",
        "```\n",
        "\n",
        "Но можно из элемента сделать список и соединить два списка:"
      ]
    },
    {
      "cell_type": "code",
      "source": [
        "[1, 2, 3] + 4"
      ],
      "metadata": {
        "colab": {
          "base_uri": "https://localhost:8080/",
          "height": 141
        },
        "id": "0lkfV2vKiDe5",
        "outputId": "c1aa350e-8bd7-4afa-c430-d05b9b2931d0"
      },
      "execution_count": null,
      "outputs": [
        {
          "output_type": "error",
          "ename": "TypeError",
          "evalue": "can only concatenate list (not \"int\") to list",
          "traceback": [
            "\u001b[0;31m---------------------------------------------------------------------------\u001b[0m",
            "\u001b[0;31mTypeError\u001b[0m                                 Traceback (most recent call last)",
            "\u001b[0;32m/tmp/ipython-input-3235482733.py\u001b[0m in \u001b[0;36m<cell line: 0>\u001b[0;34m()\u001b[0m\n\u001b[0;32m----> 1\u001b[0;31m \u001b[0;34m[\u001b[0m\u001b[0;36m1\u001b[0m\u001b[0;34m,\u001b[0m \u001b[0;36m2\u001b[0m\u001b[0;34m,\u001b[0m \u001b[0;36m3\u001b[0m\u001b[0;34m]\u001b[0m \u001b[0;34m+\u001b[0m \u001b[0;36m4\u001b[0m\u001b[0;34m\u001b[0m\u001b[0;34m\u001b[0m\u001b[0m\n\u001b[0m",
            "\u001b[0;31mTypeError\u001b[0m: can only concatenate list (not \"int\") to list"
          ]
        }
      ]
    },
    {
      "cell_type": "code",
      "source": [
        "a = [1, 2, 3]\n",
        "a.append(4)\n",
        "a"
      ],
      "metadata": {
        "colab": {
          "base_uri": "https://localhost:8080/"
        },
        "id": "17bBAxcXiNsD",
        "outputId": "0b021a55-ed67-44cf-9a35-08ef86d80987"
      },
      "execution_count": null,
      "outputs": [
        {
          "output_type": "execute_result",
          "data": {
            "text/plain": [
              "[1, 2, 3, 4]"
            ]
          },
          "metadata": {},
          "execution_count": 23
        }
      ]
    },
    {
      "cell_type": "code",
      "execution_count": null,
      "metadata": {
        "id": "Dh-RgalzhJxX",
        "outputId": "c37f6971-083e-4734-a1f3-df79a84140f9",
        "colab": {
          "base_uri": "https://localhost:8080/"
        }
      },
      "outputs": [
        {
          "output_type": "execute_result",
          "data": {
            "text/plain": [
              "[1, 2, 3, 4]"
            ]
          },
          "metadata": {},
          "execution_count": 24
        }
      ],
      "source": [
        "[1, 2, 3] + [4]"
      ]
    },
    {
      "cell_type": "code",
      "execution_count": null,
      "metadata": {
        "id": "vKLkHxiihJxY",
        "outputId": "b7aa6c57-dd78-4eb9-b6b7-4b5c3b4e0a79",
        "colab": {
          "base_uri": "https://localhost:8080/"
        }
      },
      "outputs": [
        {
          "output_type": "execute_result",
          "data": {
            "text/plain": [
              "['a', 'b', 'c', 1, 2]"
            ]
          },
          "metadata": {},
          "execution_count": 25
        }
      ],
      "source": [
        "letters = ['a', 'b', 'c']\n",
        "nums = [1, 2]\n",
        "letters += nums\n",
        "letters"
      ]
    },
    {
      "cell_type": "markdown",
      "metadata": {
        "id": "sD8zRnq9hJxY"
      },
      "source": [
        "Соединить попарно элементы списков `letters` и `nums`:"
      ]
    },
    {
      "cell_type": "code",
      "source": [
        "for i in range(len(letters)):\n",
        "    print(letters[i], nums[i])"
      ],
      "metadata": {
        "colab": {
          "base_uri": "https://localhost:8080/",
          "height": 193
        },
        "id": "u4sOO8VKl6jQ",
        "outputId": "cfaf37eb-c8ee-4fb8-8fcf-e8969bc06ac9"
      },
      "execution_count": null,
      "outputs": [
        {
          "output_type": "stream",
          "name": "stdout",
          "text": [
            "a 1\n",
            "b 2\n"
          ]
        },
        {
          "output_type": "error",
          "ename": "IndexError",
          "evalue": "list index out of range",
          "traceback": [
            "\u001b[0;31m---------------------------------------------------------------------------\u001b[0m",
            "\u001b[0;31mIndexError\u001b[0m                                Traceback (most recent call last)",
            "\u001b[0;32m/tmp/ipython-input-3880325355.py\u001b[0m in \u001b[0;36m<cell line: 0>\u001b[0;34m()\u001b[0m\n\u001b[1;32m      1\u001b[0m \u001b[0;32mfor\u001b[0m \u001b[0mi\u001b[0m \u001b[0;32min\u001b[0m \u001b[0mrange\u001b[0m\u001b[0;34m(\u001b[0m\u001b[0mlen\u001b[0m\u001b[0;34m(\u001b[0m\u001b[0mletters\u001b[0m\u001b[0;34m)\u001b[0m\u001b[0;34m)\u001b[0m\u001b[0;34m:\u001b[0m\u001b[0;34m\u001b[0m\u001b[0;34m\u001b[0m\u001b[0m\n\u001b[0;32m----> 2\u001b[0;31m     \u001b[0mprint\u001b[0m\u001b[0;34m(\u001b[0m\u001b[0mletters\u001b[0m\u001b[0;34m[\u001b[0m\u001b[0mi\u001b[0m\u001b[0;34m]\u001b[0m\u001b[0;34m,\u001b[0m \u001b[0mnums\u001b[0m\u001b[0;34m[\u001b[0m\u001b[0mi\u001b[0m\u001b[0;34m]\u001b[0m\u001b[0;34m)\u001b[0m\u001b[0;34m\u001b[0m\u001b[0;34m\u001b[0m\u001b[0m\n\u001b[0m",
            "\u001b[0;31mIndexError\u001b[0m: list index out of range"
          ]
        }
      ]
    },
    {
      "cell_type": "code",
      "execution_count": null,
      "metadata": {
        "id": "QuVjxlJehJxq",
        "outputId": "4649a434-08ca-4637-c517-b6d0e1fb0ec1",
        "colab": {
          "base_uri": "https://localhost:8080/"
        }
      },
      "outputs": [
        {
          "output_type": "stream",
          "name": "stdout",
          "text": [
            "('a', 1)\n",
            "('b', 2)\n"
          ]
        }
      ],
      "source": [
        "for i in zip(letters, nums):\n",
        "    print(i)"
      ]
    },
    {
      "cell_type": "code",
      "source": [
        "list(zip(letters, nums))"
      ],
      "metadata": {
        "colab": {
          "base_uri": "https://localhost:8080/"
        },
        "id": "kUFePMmXin_g",
        "outputId": "aa99afbb-04a2-49a3-9758-54f112967c49"
      },
      "execution_count": null,
      "outputs": [
        {
          "output_type": "execute_result",
          "data": {
            "text/plain": [
              "[('a', 1), ('b', 2)]"
            ]
          },
          "metadata": {},
          "execution_count": 28
        }
      ]
    },
    {
      "cell_type": "markdown",
      "metadata": {
        "id": "jeXlRf5ghJxz"
      },
      "source": [
        "## 🧠 Преобразование текста в список"
      ]
    },
    {
      "cell_type": "markdown",
      "metadata": {
        "id": "lFiPHUevhJx1"
      },
      "source": [
        "Имеется переменная с текстовыми данными:"
      ]
    },
    {
      "cell_type": "code",
      "execution_count": null,
      "metadata": {
        "id": "a4TzqfuIhJx1"
      },
      "outputs": [],
      "source": [
        "text = \"\"\"\n",
        "name,dept,tasks\n",
        "Вася,Отдел кадров,10\n",
        "Петя,Отдел кадров,7\n",
        "Маша,Бухгалтерия,5\n",
        "Алексей,Бухгалтерия,6\n",
        "\"\"\""
      ]
    },
    {
      "cell_type": "markdown",
      "metadata": {
        "id": "d2zsDI23hJx1"
      },
      "source": [
        "Необходимо найти суммарное количество задач в подразделении \"Отдел кадров\".\n",
        "\n",
        "Алгоритм может выглядеть так:\n",
        "\n",
        "```text\n",
        "разбить текст на строки\n",
        "удалить первую строку\n",
        "сумма = 0\n",
        "для каждой строки\n",
        "  разбить по запятым на элементы\n",
        "  если dept не равен \"Отдел кадров\", то пропустить запись\n",
        "  сумма += третий элемент\n",
        "```\n",
        "\n",
        "Реализуйте его ниже:"
      ]
    },
    {
      "cell_type": "code",
      "execution_count": null,
      "metadata": {
        "id": "UrW9tlw3hJx1"
      },
      "outputs": [],
      "source": []
    },
    {
      "cell_type": "markdown",
      "metadata": {
        "id": "CE86-VjKhJx2"
      },
      "source": [
        "### 🧠 Преобразование текста в список (ответ)"
      ]
    },
    {
      "cell_type": "markdown",
      "metadata": {
        "id": "yfZUj9o3hJx3"
      },
      "source": [
        "Имеется переменная с текстовыми данными:"
      ]
    },
    {
      "cell_type": "code",
      "execution_count": null,
      "metadata": {
        "id": "VSJ_rXmGhJx3"
      },
      "outputs": [],
      "source": [
        "text = \"\"\"\n",
        "name,dept,tasks\n",
        "Вася,Отдел кадров,10\n",
        "Петя,Отдел кадров,7\n",
        "Маша,Бухгалтерия,5\n",
        "Алексей,Бухгалтерия,6\n",
        "\"\"\""
      ]
    },
    {
      "cell_type": "markdown",
      "metadata": {
        "id": "DyVPD7kQhJx3"
      },
      "source": [
        "Необходимо найти суммарное количество задач в подразделении \"Отдел кадров\".\n",
        "\n",
        "Алгоритм может выглядеть так:\n",
        "\n",
        "```text\n",
        "разбить текст на строки\n",
        "удалить первую строку\n",
        "сумма = 0\n",
        "для каждой строки\n",
        "  разбить по запятым на элементы\n",
        "  если dept не равен \"Отдел кадров\", то пропустить запись\n",
        "  сумма += третий элемент\n",
        "```\n",
        "\n",
        "Реализуйте его ниже:"
      ]
    },
    {
      "cell_type": "code",
      "execution_count": null,
      "metadata": {
        "id": "xzGgrrnohJx4",
        "outputId": "b3da2daa-e064-4539-b86a-fc19246f1480",
        "colab": {
          "base_uri": "https://localhost:8080/"
        }
      },
      "outputs": [
        {
          "output_type": "execute_result",
          "data": {
            "text/plain": [
              "['',\n",
              " 'name,dept,tasks',\n",
              " 'Вася,Отдел кадров,10',\n",
              " 'Петя,Отдел кадров,7',\n",
              " 'Маша,Бухгалтерия,5',\n",
              " 'Алексей,Бухгалтерия,6',\n",
              " '']"
            ]
          },
          "metadata": {},
          "execution_count": 44
        }
      ],
      "source": [
        "text.split('\\n')"
      ]
    },
    {
      "cell_type": "code",
      "execution_count": null,
      "metadata": {
        "id": "vtQUVzk4hJx4",
        "outputId": "1456c2a9-e4ac-4d46-de01-448269c538e0",
        "colab": {
          "base_uri": "https://localhost:8080/"
        }
      },
      "outputs": [
        {
          "output_type": "execute_result",
          "data": {
            "text/plain": [
              "17"
            ]
          },
          "metadata": {},
          "execution_count": 45
        }
      ],
      "source": [
        "data = text.strip().split('\\n')[1:]\n",
        "sum_tasks = 0\n",
        "for line in data:\n",
        "    elements = line.split(',')\n",
        "    if elements[1] != 'Отдел кадров':\n",
        "        continue\n",
        "    sum_tasks += int(elements[2])\n",
        "sum_tasks"
      ]
    },
    {
      "cell_type": "markdown",
      "source": [
        "## 🧠 По убыванию\n",
        "Напишите программу, которая будет запрашивать у пользователя целые числа и сохранять их в виде списка. Индикатором окончания ввода значений также должен служить ноль. Необходимо вывести на экран введенные значения в порядке убывания.\n",
        "\n",
        "\n",
        "Пример работы программы: <br>\n",
        "Введите число: 1<br>\n",
        "Введите число: 3<br>\n",
        "Введите число: 2<br>\n",
        "Введите число: 0<br>\n",
        "Введённые значения в порядке убывания: 3, 2, 1"
      ],
      "metadata": {
        "id": "t1gbfUuXh7Qa"
      }
    },
    {
      "cell_type": "markdown",
      "source": [
        "#### 🧠 По убыванию (ответ)"
      ],
      "metadata": {
        "id": "LVVYjT-_1hyR"
      }
    },
    {
      "cell_type": "code",
      "source": [
        "numbers = []\n",
        "while True:\n",
        "    num_str = input(\"Введите число: \")\n",
        "    num = int(num_str)\n",
        "    if num == 0:\n",
        "        break\n",
        "    numbers.append(num)\n",
        "\n",
        "numbers.sort(reverse=True)\n",
        "print(\"Введённые значения в порядке убывания:\", \", \".join(map(str, numbers)))"
      ],
      "metadata": {
        "id": "mDumvOaviUPT",
        "colab": {
          "base_uri": "https://localhost:8080/"
        },
        "outputId": "8e597c36-88ef-4bae-f218-d379bac91801"
      },
      "execution_count": null,
      "outputs": [
        {
          "output_type": "stream",
          "name": "stdout",
          "text": [
            "Введите число: 1\n",
            "Введите число: 3\n",
            "Введите число: 2\n",
            "Введите число: 0\n",
            "Введённые значения в порядке убывания: 3, 2, 1\n"
          ]
        }
      ]
    },
    {
      "cell_type": "markdown",
      "metadata": {
        "id": "fKJ7ivZqjJaO"
      },
      "source": [
        "# Множества"
      ]
    },
    {
      "cell_type": "markdown",
      "metadata": {
        "id": "FwrMWz6cjJaR"
      },
      "source": [
        "**Множество** (set) представляет собой неупорядоченную совокупность объектов, в которой не может быть дубликатов.\n",
        "\n",
        "Множества часто используются:\n",
        "\n",
        "- для удаления дубликатов\n",
        "- для проверки принадлежности"
      ]
    },
    {
      "cell_type": "markdown",
      "metadata": {
        "id": "WPS9kkudjJaV"
      },
      "source": [
        "## Список операций"
      ]
    },
    {
      "cell_type": "code",
      "execution_count": null,
      "metadata": {
        "id": "7gU_Y2eejJaW",
        "outputId": "bf177538-5692-42d1-e0e9-d17f4d7ea791",
        "colab": {
          "base_uri": "https://localhost:8080/"
        }
      },
      "outputs": [
        {
          "output_type": "execute_result",
          "data": {
            "text/plain": [
              "['add',\n",
              " 'clear',\n",
              " 'copy',\n",
              " 'difference',\n",
              " 'difference_update',\n",
              " 'discard',\n",
              " 'intersection',\n",
              " 'intersection_update',\n",
              " 'isdisjoint',\n",
              " 'issubset',\n",
              " 'issuperset',\n",
              " 'pop',\n",
              " 'remove',\n",
              " 'symmetric_difference',\n",
              " 'symmetric_difference_update',\n",
              " 'union',\n",
              " 'update']"
            ]
          },
          "metadata": {},
          "execution_count": 31
        }
      ],
      "source": [
        "[f for f in dir(set) if not f.startswith('__')]"
      ]
    },
    {
      "cell_type": "markdown",
      "metadata": {
        "id": "-5DSwkV5jJaZ"
      },
      "source": [
        "## Создание"
      ]
    },
    {
      "cell_type": "code",
      "execution_count": null,
      "metadata": {
        "id": "nxIlTlQwjJab",
        "outputId": "ce352ed2-07ca-4352-ff50-d71aea26e7f2",
        "colab": {
          "base_uri": "https://localhost:8080/"
        }
      },
      "outputs": [
        {
          "output_type": "execute_result",
          "data": {
            "text/plain": [
              "set()"
            ]
          },
          "metadata": {},
          "execution_count": 32
        }
      ],
      "source": [
        "a = set()\n",
        "a"
      ]
    },
    {
      "cell_type": "code",
      "source": [
        "a = {1, 1, 4, 5}\n",
        "a"
      ],
      "metadata": {
        "colab": {
          "base_uri": "https://localhost:8080/"
        },
        "id": "XC-ubJY54Sk2",
        "outputId": "9546132c-f150-4876-f24f-22f487dcd7a4"
      },
      "execution_count": null,
      "outputs": [
        {
          "output_type": "execute_result",
          "data": {
            "text/plain": [
              "{1, 4, 5}"
            ]
          },
          "metadata": {},
          "execution_count": 33
        }
      ]
    },
    {
      "cell_type": "code",
      "source": [
        "a = {}  # dict\n",
        "type(a)"
      ],
      "metadata": {
        "id": "cttBl5AY4KN0",
        "colab": {
          "base_uri": "https://localhost:8080/"
        },
        "outputId": "1c6928a5-17cb-4510-d5da-565390c0aeb5"
      },
      "execution_count": null,
      "outputs": [
        {
          "output_type": "execute_result",
          "data": {
            "text/plain": [
              "dict"
            ]
          },
          "metadata": {},
          "execution_count": 34
        }
      ]
    },
    {
      "cell_type": "code",
      "execution_count": null,
      "metadata": {
        "id": "zfOhm7NxjJaf",
        "outputId": "cc0634b4-4a4e-4084-98db-ac56aca04f7c",
        "colab": {
          "base_uri": "https://localhost:8080/"
        }
      },
      "outputs": [
        {
          "output_type": "execute_result",
          "data": {
            "text/plain": [
              "{1, 4, 5}"
            ]
          },
          "metadata": {},
          "execution_count": 35
        }
      ],
      "source": [
        "a = set([1, 1, 4, 5])\n",
        "a"
      ]
    },
    {
      "cell_type": "code",
      "source": [
        "list1 = [1, 2, 3]\n",
        "a = {True, 'a', 6, 6, 6}\n",
        "list1[1] = 20\n",
        "a"
      ],
      "metadata": {
        "colab": {
          "base_uri": "https://localhost:8080/"
        },
        "id": "Gokorb-w46Je",
        "outputId": "aa150bb4-05e1-434e-a151-15abcefe827d"
      },
      "execution_count": null,
      "outputs": [
        {
          "output_type": "execute_result",
          "data": {
            "text/plain": [
              "{6, True, 'a'}"
            ]
          },
          "metadata": {},
          "execution_count": 36
        }
      ]
    },
    {
      "cell_type": "code",
      "source": [
        "a = {True, 'a', 6, 6, 6, (1, 2, 3)}\n",
        "a"
      ],
      "metadata": {
        "colab": {
          "base_uri": "https://localhost:8080/"
        },
        "id": "mmUo8fO-5PEN",
        "outputId": "826f54c4-f395-48da-b0a7-2b221b8fe092"
      },
      "execution_count": null,
      "outputs": [
        {
          "output_type": "execute_result",
          "data": {
            "text/plain": [
              "{(1, 2, 3), 6, True, 'a'}"
            ]
          },
          "metadata": {},
          "execution_count": 37
        }
      ]
    },
    {
      "cell_type": "markdown",
      "metadata": {
        "id": "cGxYxFUzjJag"
      },
      "source": [
        "## Операции над множествами"
      ]
    },
    {
      "cell_type": "markdown",
      "metadata": {
        "id": "HcGAgDT9jJal"
      },
      "source": [
        "Множества не поддерживают сортировку."
      ]
    },
    {
      "cell_type": "code",
      "source": [
        "a.sort()"
      ],
      "metadata": {
        "id": "lYrR0pcX9RF6",
        "colab": {
          "base_uri": "https://localhost:8080/",
          "height": 141
        },
        "outputId": "bf532e31-02d3-4237-fe47-d57544d70193"
      },
      "execution_count": null,
      "outputs": [
        {
          "output_type": "error",
          "ename": "AttributeError",
          "evalue": "'set' object has no attribute 'sort'",
          "traceback": [
            "\u001b[0;31m---------------------------------------------------------------------------\u001b[0m",
            "\u001b[0;31mAttributeError\u001b[0m                            Traceback (most recent call last)",
            "\u001b[0;32m/tmp/ipython-input-2629139315.py\u001b[0m in \u001b[0;36m<cell line: 0>\u001b[0;34m()\u001b[0m\n\u001b[0;32m----> 1\u001b[0;31m \u001b[0ma\u001b[0m\u001b[0;34m.\u001b[0m\u001b[0msort\u001b[0m\u001b[0;34m(\u001b[0m\u001b[0;34m)\u001b[0m\u001b[0;34m\u001b[0m\u001b[0;34m\u001b[0m\u001b[0m\n\u001b[0m",
            "\u001b[0;31mAttributeError\u001b[0m: 'set' object has no attribute 'sort'"
          ]
        }
      ]
    },
    {
      "cell_type": "code",
      "source": [
        "a = {6, 6, 6, 7, 8, 1, 4, 6, 2, 3, 40}\n",
        "a"
      ],
      "metadata": {
        "colab": {
          "base_uri": "https://localhost:8080/"
        },
        "id": "vTriYPZ05X2d",
        "outputId": "36c02690-7721-4a1f-a199-df900623c2aa"
      },
      "execution_count": null,
      "outputs": [
        {
          "output_type": "execute_result",
          "data": {
            "text/plain": [
              "{1, 2, 3, 4, 6, 7, 8, 40}"
            ]
          },
          "metadata": {},
          "execution_count": 45
        }
      ]
    },
    {
      "cell_type": "code",
      "source": [
        "sorted(a)"
      ],
      "metadata": {
        "colab": {
          "base_uri": "https://localhost:8080/"
        },
        "id": "v9rVdJQD9UOz",
        "outputId": "04e8c255-6433-477a-b96d-2eba3fb414c8"
      },
      "execution_count": null,
      "outputs": [
        {
          "output_type": "execute_result",
          "data": {
            "text/plain": [
              "[1, 2, 3, 4, 6, 7, 8, 40]"
            ]
          },
          "metadata": {},
          "execution_count": 46
        }
      ]
    },
    {
      "cell_type": "markdown",
      "metadata": {
        "id": "cPwJv2QbjJal"
      },
      "source": [
        "Множества не поддерживают индексирование элементов - нельзя обращаться по индексу и делать срез."
      ]
    },
    {
      "cell_type": "code",
      "source": [
        "a[-1]"
      ],
      "metadata": {
        "colab": {
          "base_uri": "https://localhost:8080/",
          "height": 141
        },
        "id": "upCZj37X9t4o",
        "outputId": "a7d66439-c34c-4ee6-dd7b-3a1ec83c35c9"
      },
      "execution_count": null,
      "outputs": [
        {
          "output_type": "error",
          "ename": "TypeError",
          "evalue": "'set' object is not subscriptable",
          "traceback": [
            "\u001b[0;31m---------------------------------------------------------------------------\u001b[0m",
            "\u001b[0;31mTypeError\u001b[0m                                 Traceback (most recent call last)",
            "\u001b[0;32m/tmp/ipython-input-3255511435.py\u001b[0m in \u001b[0;36m<cell line: 0>\u001b[0;34m()\u001b[0m\n\u001b[0;32m----> 1\u001b[0;31m \u001b[0ma\u001b[0m\u001b[0;34m[\u001b[0m\u001b[0;34m-\u001b[0m\u001b[0;36m1\u001b[0m\u001b[0;34m]\u001b[0m\u001b[0;34m\u001b[0m\u001b[0;34m\u001b[0m\u001b[0m\n\u001b[0m",
            "\u001b[0;31mTypeError\u001b[0m: 'set' object is not subscriptable"
          ]
        }
      ]
    },
    {
      "cell_type": "markdown",
      "metadata": {
        "id": "i0CW6AeWjJam"
      },
      "source": [
        "Но можно перебирать элементы множества:"
      ]
    },
    {
      "cell_type": "code",
      "execution_count": null,
      "metadata": {
        "id": "mBPk849BjJam",
        "outputId": "757abd9e-5fe4-4c31-89a8-3040e2d861b8",
        "colab": {
          "base_uri": "https://localhost:8080/"
        }
      },
      "outputs": [
        {
          "output_type": "stream",
          "name": "stdout",
          "text": [
            "1\n",
            "4\n",
            "5\n"
          ]
        }
      ],
      "source": [
        "a = {1, 1, 5, 4}\n",
        "for element in a:\n",
        "    print(element)"
      ]
    },
    {
      "cell_type": "code",
      "source": [
        "for i, el in enumerate(a):\n",
        "    print(el)\n",
        "    print(a[i])"
      ],
      "metadata": {
        "colab": {
          "base_uri": "https://localhost:8080/",
          "height": 193
        },
        "id": "oNrmhTMw5kFI",
        "outputId": "eb60d555-c6e1-4b69-b1bf-ba0c6c0e8b0a"
      },
      "execution_count": null,
      "outputs": [
        {
          "output_type": "stream",
          "name": "stdout",
          "text": [
            "1\n"
          ]
        },
        {
          "output_type": "error",
          "ename": "TypeError",
          "evalue": "'set' object is not subscriptable",
          "traceback": [
            "\u001b[0;31m---------------------------------------------------------------------------\u001b[0m",
            "\u001b[0;31mTypeError\u001b[0m                                 Traceback (most recent call last)",
            "\u001b[0;32m/tmp/ipython-input-315825861.py\u001b[0m in \u001b[0;36m<cell line: 0>\u001b[0;34m()\u001b[0m\n\u001b[1;32m      1\u001b[0m \u001b[0;32mfor\u001b[0m \u001b[0mi\u001b[0m\u001b[0;34m,\u001b[0m \u001b[0mel\u001b[0m \u001b[0;32min\u001b[0m \u001b[0menumerate\u001b[0m\u001b[0;34m(\u001b[0m\u001b[0ma\u001b[0m\u001b[0;34m)\u001b[0m\u001b[0;34m:\u001b[0m\u001b[0;34m\u001b[0m\u001b[0;34m\u001b[0m\u001b[0m\n\u001b[1;32m      2\u001b[0m     \u001b[0mprint\u001b[0m\u001b[0;34m(\u001b[0m\u001b[0mel\u001b[0m\u001b[0;34m)\u001b[0m\u001b[0;34m\u001b[0m\u001b[0;34m\u001b[0m\u001b[0m\n\u001b[0;32m----> 3\u001b[0;31m     \u001b[0mprint\u001b[0m\u001b[0;34m(\u001b[0m\u001b[0ma\u001b[0m\u001b[0;34m[\u001b[0m\u001b[0mi\u001b[0m\u001b[0;34m]\u001b[0m\u001b[0;34m)\u001b[0m\u001b[0;34m\u001b[0m\u001b[0;34m\u001b[0m\u001b[0m\n\u001b[0m",
            "\u001b[0;31mTypeError\u001b[0m: 'set' object is not subscriptable"
          ]
        }
      ]
    },
    {
      "cell_type": "markdown",
      "metadata": {
        "id": "D5IW1fGgjJam"
      },
      "source": [
        "### Множество и элемент"
      ]
    },
    {
      "cell_type": "markdown",
      "metadata": {
        "id": "_oKHxx-ZjJas"
      },
      "source": [
        "Проверка на вхождение:"
      ]
    },
    {
      "cell_type": "code",
      "execution_count": null,
      "metadata": {
        "id": "B9oiJAgrjJas",
        "outputId": "cc714ffc-ae7d-4ef1-e85a-fe7ec6370942",
        "colab": {
          "base_uri": "https://localhost:8080/"
        }
      },
      "outputs": [
        {
          "output_type": "execute_result",
          "data": {
            "text/plain": [
              "True"
            ]
          },
          "metadata": {},
          "execution_count": 50
        }
      ],
      "source": [
        "a = {1, 1, 4, 5}\n",
        "5 in a"
      ]
    },
    {
      "cell_type": "code",
      "execution_count": null,
      "metadata": {
        "id": "PEf3N64njJas",
        "outputId": "6e25c050-c1ef-47a5-976f-74e295325fcd",
        "colab": {
          "base_uri": "https://localhost:8080/"
        }
      },
      "outputs": [
        {
          "output_type": "execute_result",
          "data": {
            "text/plain": [
              "False"
            ]
          },
          "metadata": {},
          "execution_count": 51
        }
      ],
      "source": [
        "6 in a"
      ]
    },
    {
      "cell_type": "markdown",
      "metadata": {
        "id": "fvQVCcUFjJat"
      },
      "source": [
        "### Множество и другое множество"
      ]
    },
    {
      "cell_type": "markdown",
      "metadata": {
        "id": "0HhzJhSRjJat"
      },
      "source": [
        "Множества поддерживают классические операции теории множеств, такие как объединение (`|`), пересечение (`&`), вычитание (`-`) и исключающее ИЛИ (`^`).\n",
        "\n",
        "<img src='https://drive.google.com/uc?id=1IHypqKaTmrLLHg7aAuadjixn8ma3mQJR'>"
      ]
    },
    {
      "cell_type": "code",
      "execution_count": null,
      "metadata": {
        "id": "JP6DX_n1jJat",
        "outputId": "59120823-cc71-448a-dcd2-4ce054f1af97",
        "colab": {
          "base_uri": "https://localhost:8080/"
        }
      },
      "outputs": [
        {
          "output_type": "stream",
          "name": "stdout",
          "text": [
            "{1, 2, 3, 4}\n",
            "{1, 2, 3, 4}\n",
            "{1, 2}\n",
            "{1, 2, 3, 4}\n",
            "{1, 2}\n"
          ]
        }
      ],
      "source": [
        "a = {1, 2}\n",
        "b = {2, 3, 4}\n",
        "print(a.union(b))\n",
        "print(b.union(a))\n",
        "print(a)\n",
        "print(a | b)\n",
        "print(a)"
      ]
    },
    {
      "cell_type": "code",
      "execution_count": null,
      "metadata": {
        "id": "oCjTw1H3jJau",
        "outputId": "44d3b473-1467-4201-e9bf-62a21b8ae0a4",
        "colab": {
          "base_uri": "https://localhost:8080/"
        }
      },
      "outputs": [
        {
          "output_type": "stream",
          "name": "stdout",
          "text": [
            "{2}\n",
            "{2}\n",
            "{2}\n"
          ]
        }
      ],
      "source": [
        "a = {1, 2}\n",
        "b = {2, 3, 4}\n",
        "print(a.intersection(b))\n",
        "print(b.intersection(a))\n",
        "print(a & b)"
      ]
    },
    {
      "cell_type": "code",
      "execution_count": null,
      "metadata": {
        "id": "5jH39plkjJau",
        "outputId": "d740b079-3b20-4a20-d3d5-54df376a9d92",
        "colab": {
          "base_uri": "https://localhost:8080/"
        }
      },
      "outputs": [
        {
          "output_type": "stream",
          "name": "stdout",
          "text": [
            "{1, 3, 4}\n",
            "{1, 3, 4}\n"
          ]
        }
      ],
      "source": [
        "a = {1, 2}\n",
        "b = {2, 3, 4}\n",
        "print(a.symmetric_difference(b))\n",
        "print(a ^ b)"
      ]
    },
    {
      "cell_type": "code",
      "execution_count": null,
      "metadata": {
        "id": "SWybbPrIjJav",
        "outputId": "c126c22e-3e6d-4abc-d9bd-b0d48dfac385",
        "colab": {
          "base_uri": "https://localhost:8080/"
        }
      },
      "outputs": [
        {
          "output_type": "stream",
          "name": "stdout",
          "text": [
            "{1}\n",
            "{1}\n"
          ]
        }
      ],
      "source": [
        "a = {1, 2}\n",
        "b = {2, 3, 4}\n",
        "print(a.difference(b))\n",
        "print(a - b)"
      ]
    },
    {
      "cell_type": "code",
      "source": [
        "a = {1, 2}\n",
        "b = {2, 3, 4}\n",
        "print(b.difference(a))\n",
        "print(b - a)"
      ],
      "metadata": {
        "colab": {
          "base_uri": "https://localhost:8080/"
        },
        "id": "kQCieQm9-J94",
        "outputId": "90d43920-0277-4772-9b93-0575847b2649"
      },
      "execution_count": null,
      "outputs": [
        {
          "output_type": "stream",
          "name": "stdout",
          "text": [
            "{3, 4}\n",
            "{3, 4}\n"
          ]
        }
      ]
    },
    {
      "cell_type": "markdown",
      "metadata": {
        "id": "8_5ozYp3jJav"
      },
      "source": [
        "Для изменения исходного множества есть вторая группа операций с суффиксом `_update`."
      ]
    },
    {
      "cell_type": "code",
      "execution_count": null,
      "metadata": {
        "id": "59hNfrDbjJaw",
        "outputId": "407c13a6-7c09-4ad4-df29-c0d033e308a9",
        "colab": {
          "base_uri": "https://localhost:8080/"
        }
      },
      "outputs": [
        {
          "output_type": "execute_result",
          "data": {
            "text/plain": [
              "{1, 2, 3, 4}"
            ]
          },
          "metadata": {},
          "execution_count": 58
        }
      ],
      "source": [
        "a = {1, 2}\n",
        "b = {2, 3, 4}\n",
        "a.update(b)  # union!\n",
        "a"
      ]
    },
    {
      "cell_type": "code",
      "execution_count": null,
      "metadata": {
        "id": "mVjKnHOfjJax",
        "outputId": "6885eb89-3e9f-4a87-c881-e1c667b62134",
        "colab": {
          "base_uri": "https://localhost:8080/"
        }
      },
      "outputs": [
        {
          "output_type": "execute_result",
          "data": {
            "text/plain": [
              "{2}"
            ]
          },
          "metadata": {},
          "execution_count": 59
        }
      ],
      "source": [
        "a = {1, 2}\n",
        "b = {2, 3, 4}\n",
        "a.intersection_update(b)\n",
        "a"
      ]
    },
    {
      "cell_type": "code",
      "execution_count": null,
      "metadata": {
        "id": "T4Qub6rHjJay",
        "outputId": "da143dc2-df13-4132-ccbf-e89d23f0ee31",
        "colab": {
          "base_uri": "https://localhost:8080/"
        }
      },
      "outputs": [
        {
          "output_type": "execute_result",
          "data": {
            "text/plain": [
              "{1, 3, 4}"
            ]
          },
          "metadata": {},
          "execution_count": 60
        }
      ],
      "source": [
        "a = {1, 2}\n",
        "b = {2, 3, 4}\n",
        "a.symmetric_difference_update(b)\n",
        "a"
      ]
    },
    {
      "cell_type": "code",
      "execution_count": null,
      "metadata": {
        "id": "4TqwiB9XjJaz",
        "outputId": "54770823-0409-4340-99fe-b00f13202581",
        "colab": {
          "base_uri": "https://localhost:8080/"
        }
      },
      "outputs": [
        {
          "output_type": "execute_result",
          "data": {
            "text/plain": [
              "{1}"
            ]
          },
          "metadata": {},
          "execution_count": 61
        }
      ],
      "source": [
        "a = {1, 2}\n",
        "b = {2, 3, 4}\n",
        "a.difference_update(b)\n",
        "a"
      ]
    },
    {
      "cell_type": "markdown",
      "metadata": {
        "id": "nZx4TIEZjJa0"
      },
      "source": [
        "Проверка на равенство:"
      ]
    },
    {
      "cell_type": "code",
      "execution_count": null,
      "metadata": {
        "id": "f_d-ETChjJa1",
        "outputId": "8cfa2c41-12fb-44b4-b3c0-ceee9b00bfd9",
        "colab": {
          "base_uri": "https://localhost:8080/"
        }
      },
      "outputs": [
        {
          "output_type": "execute_result",
          "data": {
            "text/plain": [
              "True"
            ]
          },
          "metadata": {},
          "execution_count": 63
        }
      ],
      "source": [
        "a = {1, 2, 3}\n",
        "b = {2, 3, 1}\n",
        "a == b"
      ]
    },
    {
      "cell_type": "code",
      "source": [
        "a"
      ],
      "metadata": {
        "colab": {
          "base_uri": "https://localhost:8080/"
        },
        "id": "rt3N5n6C79Mj",
        "outputId": "3bcff8cb-ce6a-41a3-fe5d-5e0f5943dd8d"
      },
      "execution_count": null,
      "outputs": [
        {
          "output_type": "execute_result",
          "data": {
            "text/plain": [
              "{1, 2, 3}"
            ]
          },
          "metadata": {},
          "execution_count": 64
        }
      ]
    },
    {
      "cell_type": "code",
      "source": [
        "b"
      ],
      "metadata": {
        "colab": {
          "base_uri": "https://localhost:8080/"
        },
        "id": "EB9VvBLV79uY",
        "outputId": "56b24d6c-7721-4f91-b936-3c17906c7fef"
      },
      "execution_count": null,
      "outputs": [
        {
          "output_type": "execute_result",
          "data": {
            "text/plain": [
              "{1, 2, 3}"
            ]
          },
          "metadata": {},
          "execution_count": 65
        }
      ]
    },
    {
      "cell_type": "markdown",
      "metadata": {
        "id": "45pkw4bzjJa5"
      },
      "source": [
        "Проверка на _отсутствие_ общих элементов (обратное пересечение):"
      ]
    },
    {
      "cell_type": "code",
      "execution_count": null,
      "metadata": {
        "id": "09JUx-wTjJa5",
        "outputId": "e7678c1b-d745-40b1-dfc3-c6d64903058a",
        "colab": {
          "base_uri": "https://localhost:8080/"
        }
      },
      "outputs": [
        {
          "output_type": "execute_result",
          "data": {
            "text/plain": [
              "True"
            ]
          },
          "metadata": {},
          "execution_count": 66
        }
      ],
      "source": [
        "a = {1, 2}\n",
        "b = {3}\n",
        "a.isdisjoint(b)"
      ]
    },
    {
      "cell_type": "code",
      "execution_count": null,
      "metadata": {
        "id": "0DV77aV0jJa6",
        "outputId": "46d563f6-23f8-46d4-bfa5-560f65952d07",
        "colab": {
          "base_uri": "https://localhost:8080/"
        }
      },
      "outputs": [
        {
          "output_type": "execute_result",
          "data": {
            "text/plain": [
              "False"
            ]
          },
          "metadata": {},
          "execution_count": 67
        }
      ],
      "source": [
        "a = {1, 2}\n",
        "b = {2, 3}\n",
        "a.isdisjoint(b)"
      ]
    },
    {
      "cell_type": "markdown",
      "metadata": {
        "id": "EibY53vCjJa7"
      },
      "source": [
        "## 🧠 Работа с множествами"
      ]
    },
    {
      "cell_type": "markdown",
      "metadata": {
        "id": "f13ejDdfjJa7"
      },
      "source": [
        "Даны следующие данные:"
      ]
    },
    {
      "cell_type": "code",
      "execution_count": null,
      "metadata": {
        "id": "N-YQg9zLjJa7"
      },
      "outputs": [],
      "source": [
        "text1 = \"\"\"\n",
        "январь: 2\n",
        "февраль: 4\n",
        "март: 7\n",
        "\"\"\""
      ]
    },
    {
      "cell_type": "code",
      "execution_count": null,
      "metadata": {
        "id": "-RMA_hBcjJa8"
      },
      "outputs": [],
      "source": [
        "text2 = \"\"\"\n",
        "февраль: 10\n",
        "март: 8\n",
        "апрель: 3\n",
        "\"\"\""
      ]
    },
    {
      "cell_type": "markdown",
      "metadata": {
        "id": "FPaO-4vpjJa8"
      },
      "source": [
        "Составьте множества по месяцам:"
      ]
    },
    {
      "cell_type": "code",
      "execution_count": null,
      "metadata": {
        "id": "dH-mQmCrjJa8",
        "outputId": "f7959e91-e28c-4714-894a-c8ba4c466f66",
        "colab": {
          "base_uri": "https://localhost:8080/"
        }
      },
      "outputs": [
        {
          "output_type": "execute_result",
          "data": {
            "text/plain": [
              "{'март', 'февраль', 'январь'}"
            ]
          },
          "metadata": {},
          "execution_count": 61
        }
      ],
      "source": []
    },
    {
      "cell_type": "code",
      "execution_count": null,
      "metadata": {
        "id": "kpxvBTrYjJa9",
        "outputId": "bc6c66df-c8ad-4c0f-e10a-5ed3629983f1",
        "colab": {
          "base_uri": "https://localhost:8080/"
        }
      },
      "outputs": [
        {
          "output_type": "execute_result",
          "data": {
            "text/plain": [
              "{'апрель', 'март', 'февраль'}"
            ]
          },
          "metadata": {},
          "execution_count": 64
        }
      ],
      "source": []
    },
    {
      "cell_type": "markdown",
      "metadata": {
        "id": "FaSFcLyvjJa9"
      },
      "source": [
        "Найдите общие месяцы:"
      ]
    },
    {
      "cell_type": "code",
      "execution_count": null,
      "metadata": {
        "id": "whZzRam1jJa-",
        "outputId": "c71c3db8-2ea7-4f13-9e29-a26b6d8a6289",
        "colab": {
          "base_uri": "https://localhost:8080/"
        }
      },
      "outputs": [
        {
          "output_type": "execute_result",
          "data": {
            "text/plain": [
              "{'март', 'февраль'}"
            ]
          },
          "metadata": {},
          "execution_count": 66
        }
      ],
      "source": []
    },
    {
      "cell_type": "markdown",
      "metadata": {
        "id": "_T9hkIQ2jJa-"
      },
      "source": [
        "Создайте переменную `months` и поместите в неё все месяцы:"
      ]
    },
    {
      "cell_type": "code",
      "execution_count": null,
      "metadata": {
        "id": "IsV-CwjDjJa-",
        "outputId": "04e3b03c-7932-4e91-dd02-2b2b947010fa",
        "colab": {
          "base_uri": "https://localhost:8080/"
        }
      },
      "outputs": [
        {
          "output_type": "execute_result",
          "data": {
            "text/plain": [
              "{'апрель', 'март', 'февраль', 'январь'}"
            ]
          },
          "metadata": {},
          "execution_count": 68
        }
      ],
      "source": []
    },
    {
      "cell_type": "markdown",
      "metadata": {
        "id": "1bfS_AZfjJa_"
      },
      "source": [
        "Найдите месяцы которые не перечислены в обоих текстах:"
      ]
    },
    {
      "cell_type": "code",
      "execution_count": null,
      "metadata": {
        "id": "BrR1p-SZjJa_",
        "outputId": "b2243a46-850e-44c8-f4d3-3bdf4741d4dd",
        "colab": {
          "base_uri": "https://localhost:8080/"
        }
      },
      "outputs": [
        {
          "output_type": "execute_result",
          "data": {
            "text/plain": [
              "{'август', 'декабрь', 'июль', 'июнь', 'май', 'ноябрь', 'октябрь', 'сентябрь'}"
            ]
          },
          "metadata": {},
          "execution_count": 70
        }
      ],
      "source": []
    },
    {
      "cell_type": "markdown",
      "metadata": {
        "id": "t2PH3YtpjJbA"
      },
      "source": [
        "### 🧠 Работа с множествами (ответ)"
      ]
    },
    {
      "cell_type": "markdown",
      "metadata": {
        "id": "zrY9WyHKjJbB"
      },
      "source": [
        "Даны следующие данные:"
      ]
    },
    {
      "cell_type": "code",
      "execution_count": null,
      "metadata": {
        "id": "cjNUomlijJbB"
      },
      "outputs": [],
      "source": [
        "text1 = \"\"\"\n",
        "1. январь: 2\n",
        "февраль: 4\n",
        "3. март: 7\n",
        "\"\"\""
      ]
    },
    {
      "cell_type": "code",
      "execution_count": null,
      "metadata": {
        "id": "1v9a-XcQjJbB"
      },
      "outputs": [],
      "source": [
        "text1 = \"\"\"\n",
        "январь: 2\n",
        "февраль: 4\n",
        "март: 7\n",
        "\"\"\""
      ]
    },
    {
      "cell_type": "code",
      "execution_count": null,
      "metadata": {
        "id": "twhoXITpjJbB"
      },
      "outputs": [],
      "source": [
        "text2 = \"\"\"\n",
        "февраль: 10\n",
        "март: 8\n",
        "апрель: 3\n",
        "\"\"\""
      ]
    },
    {
      "cell_type": "markdown",
      "metadata": {
        "id": "OZ15m6q2jJbC"
      },
      "source": [
        "Составьте множества по месяцам:"
      ]
    },
    {
      "cell_type": "code",
      "execution_count": null,
      "metadata": {
        "id": "zit4srkNjJbC",
        "outputId": "b0f6fa36-0c43-4973-c16a-1d4fa936442f",
        "colab": {
          "base_uri": "https://localhost:8080/"
        }
      },
      "outputs": [
        {
          "output_type": "execute_result",
          "data": {
            "text/plain": [
              "{'март', 'февраль', 'январь'}"
            ]
          },
          "metadata": {},
          "execution_count": 71
        }
      ],
      "source": [
        "s1 = text1.strip().split('\\n')\n",
        "mon1 = set()\n",
        "for e1 in s1:\n",
        "    mon1.add(e1.split(':')[0])\n",
        "mon1"
      ]
    },
    {
      "cell_type": "code",
      "execution_count": null,
      "metadata": {
        "id": "wrvRroqvjJbC",
        "outputId": "60e10bab-9ab2-45a0-92ca-1261f88c03c0",
        "colab": {
          "base_uri": "https://localhost:8080/"
        }
      },
      "outputs": [
        {
          "output_type": "execute_result",
          "data": {
            "text/plain": [
              "{'март', 'февраль', 'январь'}"
            ]
          },
          "metadata": {},
          "execution_count": 72
        }
      ],
      "source": [
        "mon1 = set(text1.\n",
        "    strip().\n",
        "    replace(':', '').\n",
        "    replace('\\n', ' ').\n",
        "    split(' ')\n",
        "    [::2])\n",
        "mon1"
      ]
    },
    {
      "cell_type": "code",
      "execution_count": null,
      "metadata": {
        "id": "ds6BEgAojJbD",
        "outputId": "54973abc-6200-4957-c917-c65f7d0e4155",
        "colab": {
          "base_uri": "https://localhost:8080/"
        }
      },
      "outputs": [
        {
          "output_type": "execute_result",
          "data": {
            "text/plain": [
              "{'март', 'февраль', 'январь'}"
            ]
          },
          "metadata": {},
          "execution_count": 73
        }
      ],
      "source": [
        "mon1 = set(text1.replace(':', '').strip().split()[::2])\n",
        "mon1"
      ]
    },
    {
      "cell_type": "code",
      "execution_count": null,
      "metadata": {
        "id": "-f2dR1WMjJbD",
        "outputId": "c2127dac-47cb-4682-c8fa-5f1da5382b67",
        "colab": {
          "base_uri": "https://localhost:8080/"
        }
      },
      "outputs": [
        {
          "output_type": "execute_result",
          "data": {
            "text/plain": [
              "{'апрель', 'март', 'февраль'}"
            ]
          },
          "metadata": {},
          "execution_count": 74
        }
      ],
      "source": [
        "mon2 = set(text2.replace(':', '').strip().split()[::2])\n",
        "mon2"
      ]
    },
    {
      "cell_type": "markdown",
      "metadata": {
        "id": "8hd8vYu4jJbE"
      },
      "source": [
        "Найдите общие месяцы:"
      ]
    },
    {
      "cell_type": "code",
      "execution_count": null,
      "metadata": {
        "id": "LrsHXVWZjJbF",
        "outputId": "56a52eb0-b9c6-412a-fdbe-4afd0c4dd128",
        "colab": {
          "base_uri": "https://localhost:8080/"
        }
      },
      "outputs": [
        {
          "output_type": "execute_result",
          "data": {
            "text/plain": [
              "{'март', 'февраль'}"
            ]
          },
          "metadata": {},
          "execution_count": 75
        }
      ],
      "source": [
        "mon1 & mon2"
      ]
    },
    {
      "cell_type": "markdown",
      "metadata": {
        "id": "mOJU7v-hjJbF"
      },
      "source": [
        "Создайте переменную `months` и поместите в неё все месяцы:"
      ]
    },
    {
      "cell_type": "code",
      "execution_count": null,
      "metadata": {
        "id": "Ec_X2p0NjJbG",
        "outputId": "8072f6c2-5f6d-4e07-8b87-f90c21646ccb",
        "colab": {
          "base_uri": "https://localhost:8080/"
        }
      },
      "outputs": [
        {
          "output_type": "execute_result",
          "data": {
            "text/plain": [
              "{'апрель', 'март', 'февраль', 'январь'}"
            ]
          },
          "metadata": {},
          "execution_count": 76
        }
      ],
      "source": [
        "months = mon1 | mon2\n",
        "months"
      ]
    },
    {
      "cell_type": "markdown",
      "metadata": {
        "id": "YpbQ7g29jJbG"
      },
      "source": [
        "Найдите месяцы которые не перечислены в обоих текстах:"
      ]
    },
    {
      "cell_type": "code",
      "execution_count": null,
      "metadata": {
        "id": "KEAkPzgvjJbG",
        "outputId": "ed4a7ad9-e18c-4ed0-b9d3-2a99c0ffa5ab",
        "colab": {
          "base_uri": "https://localhost:8080/"
        }
      },
      "outputs": [
        {
          "output_type": "execute_result",
          "data": {
            "text/plain": [
              "{'август', 'декабрь', 'июль', 'июнь', 'май', 'ноябрь', 'октябрь', 'сентябрь'}"
            ]
          },
          "metadata": {},
          "execution_count": 77
        }
      ],
      "source": [
        "all = {\n",
        "    'январь',\n",
        "    'февраль',\n",
        "    'март',\n",
        "    'апрель',\n",
        "    'май',\n",
        "    'июнь',\n",
        "    'июль',\n",
        "    'август',\n",
        "    'сентябрь',\n",
        "    'октябрь',\n",
        "    'ноябрь',\n",
        "    'декабрь',\n",
        "}\n",
        "all - months"
      ]
    },
    {
      "cell_type": "markdown",
      "source": [
        "# str.join()\n",
        "\n",
        "separator.join(iterable) возвращает новую строку, состоящую из элементов iterable, вставляя между соседними элементами separator"
      ],
      "metadata": {
        "id": "_JjPWONAK_m8"
      }
    },
    {
      "cell_type": "markdown",
      "source": [
        "Элементы iterable должны быть строками. Если встретится не-строка, будет TypeError.\n"
      ],
      "metadata": {
        "id": "pA92gVrkLFj_"
      }
    },
    {
      "cell_type": "code",
      "source": [
        "','.join(['hi', 'hello'])"
      ],
      "metadata": {
        "colab": {
          "base_uri": "https://localhost:8080/",
          "height": 36
        },
        "id": "INh2NpqbLHU0",
        "outputId": "b3916a69-3f5a-4cdd-b98a-5a88eeff0da1"
      },
      "execution_count": null,
      "outputs": [
        {
          "output_type": "execute_result",
          "data": {
            "text/plain": [
              "'hi,hello'"
            ],
            "application/vnd.google.colaboratory.intrinsic+json": {
              "type": "string"
            }
          },
          "metadata": {},
          "execution_count": 78
        }
      ]
    },
    {
      "cell_type": "code",
      "source": [
        "','.join([1, 2, 3])"
      ],
      "metadata": {
        "colab": {
          "base_uri": "https://localhost:8080/",
          "height": 141
        },
        "id": "_yx5kTB-LMy_",
        "outputId": "7f9b6fba-0f75-498a-f043-78434915afe4"
      },
      "execution_count": null,
      "outputs": [
        {
          "output_type": "error",
          "ename": "TypeError",
          "evalue": "sequence item 0: expected str instance, int found",
          "traceback": [
            "\u001b[0;31m---------------------------------------------------------------------------\u001b[0m",
            "\u001b[0;31mTypeError\u001b[0m                                 Traceback (most recent call last)",
            "\u001b[0;32m/tmp/ipython-input-1432928125.py\u001b[0m in \u001b[0;36m<cell line: 0>\u001b[0;34m()\u001b[0m\n\u001b[0;32m----> 1\u001b[0;31m \u001b[0;34m','\u001b[0m\u001b[0;34m.\u001b[0m\u001b[0mjoin\u001b[0m\u001b[0;34m(\u001b[0m\u001b[0;34m[\u001b[0m\u001b[0;36m1\u001b[0m\u001b[0;34m,\u001b[0m \u001b[0;36m2\u001b[0m\u001b[0;34m,\u001b[0m \u001b[0;36m3\u001b[0m\u001b[0;34m]\u001b[0m\u001b[0;34m)\u001b[0m\u001b[0;34m\u001b[0m\u001b[0;34m\u001b[0m\u001b[0m\n\u001b[0m",
            "\u001b[0;31mTypeError\u001b[0m: sequence item 0: expected str instance, int found"
          ]
        }
      ]
    },
    {
      "cell_type": "markdown",
      "source": [
        "Можно передать любой итерируемый объект (список, кортеж и т. п.).\n"
      ],
      "metadata": {
        "id": "O18jTWZMLSD5"
      }
    },
    {
      "cell_type": "code",
      "source": [
        "tuple_example = ('1', '2', '3', '4', '5')\n",
        "' '.join(tuple_example)"
      ],
      "metadata": {
        "colab": {
          "base_uri": "https://localhost:8080/",
          "height": 36
        },
        "id": "cdRYyvmMLUuE",
        "outputId": "a3133e8c-03b0-4f34-b2b1-504de67b3cc4"
      },
      "execution_count": null,
      "outputs": [
        {
          "output_type": "execute_result",
          "data": {
            "text/plain": [
              "'1 2 3 4 5'"
            ],
            "application/vnd.google.colaboratory.intrinsic+json": {
              "type": "string"
            }
          },
          "metadata": {},
          "execution_count": 80
        }
      ]
    },
    {
      "cell_type": "code",
      "source": [
        "set_example = {'1', '2', '3', '4', '5'}\n",
        "' '.join(set_example)"
      ],
      "metadata": {
        "colab": {
          "base_uri": "https://localhost:8080/",
          "height": 36
        },
        "id": "Bz_AP_rMLnCx",
        "outputId": "620b1e09-37a0-4cec-f905-5fbab6c52fc4"
      },
      "execution_count": null,
      "outputs": [
        {
          "output_type": "execute_result",
          "data": {
            "text/plain": [
              "'2 4 3 1 5'"
            ],
            "application/vnd.google.colaboratory.intrinsic+json": {
              "type": "string"
            }
          },
          "metadata": {},
          "execution_count": 81
        }
      ]
    },
    {
      "cell_type": "code",
      "source": [
        "str_example = '12345'\n",
        "' '.join(str_example)"
      ],
      "metadata": {
        "colab": {
          "base_uri": "https://localhost:8080/",
          "height": 36
        },
        "id": "OnO8K8rAL81j",
        "outputId": "d5b30543-6b34-49eb-f0b0-2b52187b5d21"
      },
      "execution_count": null,
      "outputs": [
        {
          "output_type": "execute_result",
          "data": {
            "text/plain": [
              "'1 2 3 4 5'"
            ],
            "application/vnd.google.colaboratory.intrinsic+json": {
              "type": "string"
            }
          },
          "metadata": {},
          "execution_count": 82
        }
      ]
    },
    {
      "cell_type": "code",
      "source": [
        "fields = [\"John\", \"Doe\", 30, \"New York\"]\n",
        "result = ','.join(fields)\n",
        "print(result)"
      ],
      "metadata": {
        "colab": {
          "base_uri": "https://localhost:8080/",
          "height": 176
        },
        "id": "_v5dQFDg3L-Y",
        "outputId": "fde7f1cd-c349-4c7b-da55-e1eef3530f3a"
      },
      "execution_count": null,
      "outputs": [
        {
          "output_type": "error",
          "ename": "TypeError",
          "evalue": "sequence item 2: expected str instance, int found",
          "traceback": [
            "\u001b[0;31m---------------------------------------------------------------------------\u001b[0m",
            "\u001b[0;31mTypeError\u001b[0m                                 Traceback (most recent call last)",
            "\u001b[0;32m/tmp/ipython-input-3282790469.py\u001b[0m in \u001b[0;36m<cell line: 0>\u001b[0;34m()\u001b[0m\n\u001b[1;32m      1\u001b[0m \u001b[0mfields\u001b[0m \u001b[0;34m=\u001b[0m \u001b[0;34m[\u001b[0m\u001b[0;34m\"John\"\u001b[0m\u001b[0;34m,\u001b[0m \u001b[0;34m\"Doe\"\u001b[0m\u001b[0;34m,\u001b[0m \u001b[0;36m30\u001b[0m\u001b[0;34m,\u001b[0m \u001b[0;34m\"New York\"\u001b[0m\u001b[0;34m]\u001b[0m\u001b[0;34m\u001b[0m\u001b[0;34m\u001b[0m\u001b[0m\n\u001b[0;32m----> 2\u001b[0;31m \u001b[0mresult\u001b[0m \u001b[0;34m=\u001b[0m \u001b[0;34m','\u001b[0m\u001b[0;34m.\u001b[0m\u001b[0mjoin\u001b[0m\u001b[0;34m(\u001b[0m\u001b[0mfields\u001b[0m\u001b[0;34m)\u001b[0m\u001b[0;34m\u001b[0m\u001b[0;34m\u001b[0m\u001b[0m\n\u001b[0m\u001b[1;32m      3\u001b[0m \u001b[0mprint\u001b[0m\u001b[0;34m(\u001b[0m\u001b[0mresult\u001b[0m\u001b[0;34m)\u001b[0m\u001b[0;34m\u001b[0m\u001b[0;34m\u001b[0m\u001b[0m\n",
            "\u001b[0;31mTypeError\u001b[0m: sequence item 2: expected str instance, int found"
          ]
        }
      ]
    },
    {
      "cell_type": "code",
      "source": [
        "fields = [\"John\", \"Doe\", 30, \"New York\"]\n",
        "result = ','.join(str(item) for item in fields)\n",
        "print(result)"
      ],
      "metadata": {
        "colab": {
          "base_uri": "https://localhost:8080/"
        },
        "id": "Xbb__zlrMEwy",
        "outputId": "cf62e0c0-2443-4dc0-a564-fa2adf5be031"
      },
      "execution_count": null,
      "outputs": [
        {
          "output_type": "stream",
          "name": "stdout",
          "text": [
            "John,Doe,30,New York\n"
          ]
        }
      ]
    },
    {
      "cell_type": "markdown",
      "source": [
        "## Сравнение эффективности .join() с конкатенацией"
      ],
      "metadata": {
        "id": "LEcGQMKVSD7m"
      }
    },
    {
      "cell_type": "code",
      "source": [
        "num_strings = 100_000\n",
        "small_string = \"А\" * 10\n",
        "list_of_strings = [small_string] * num_strings\n",
        "\n",
        "list_of_strings[:10]"
      ],
      "metadata": {
        "colab": {
          "base_uri": "https://localhost:8080/"
        },
        "id": "kGmCV9A-Sgzp",
        "outputId": "37879fe4-6eb2-4885-d386-5aaf5fe9e08e"
      },
      "execution_count": null,
      "outputs": [
        {
          "output_type": "execute_result",
          "data": {
            "text/plain": [
              "['АААААААААА',\n",
              " 'АААААААААА',\n",
              " 'АААААААААА',\n",
              " 'АААААААААА',\n",
              " 'АААААААААА',\n",
              " 'АААААААААА',\n",
              " 'АААААААААА',\n",
              " 'АААААААААА',\n",
              " 'АААААААААА',\n",
              " 'АААААААААА']"
            ]
          },
          "metadata": {},
          "execution_count": 87
        }
      ]
    },
    {
      "cell_type": "code",
      "source": [
        "import timeit\n",
        "\n",
        "# Используем .join()\n",
        "time_join = timeit.timeit(lambda: \"\".join(list_of_strings), number=1000)\n",
        "time_join"
      ],
      "metadata": {
        "colab": {
          "base_uri": "https://localhost:8080/"
        },
        "id": "ih-mmU64SyZ1",
        "outputId": "dc188450-2569-4b9f-c893-12cf9701f7b5"
      },
      "execution_count": null,
      "outputs": [
        {
          "output_type": "execute_result",
          "data": {
            "text/plain": [
              "1.8280008069999667"
            ]
          },
          "metadata": {},
          "execution_count": 88
        }
      ]
    },
    {
      "cell_type": "code",
      "source": [
        "# Используем конкатенацию\n",
        "def concatenate():\n",
        "    result = \"\"\n",
        "    for s in list_of_strings:\n",
        "        result += s\n",
        "    return result\n",
        "\n",
        "time_concat = timeit.timeit(concatenate, number=1000)\n",
        "time_concat"
      ],
      "metadata": {
        "colab": {
          "base_uri": "https://localhost:8080/"
        },
        "id": "N7gnS8DBS4Uv",
        "outputId": "437a259e-1a3e-4338-8cca-0a73a17d98b5"
      },
      "execution_count": null,
      "outputs": [
        {
          "output_type": "execute_result",
          "data": {
            "text/plain": [
              "10.320380305999947"
            ]
          },
          "metadata": {},
          "execution_count": 89
        }
      ]
    },
    {
      "cell_type": "code",
      "source": [
        "print(f\"Время выполнения с использованием ''.join(): {time_join:.3f} секунд\")\n",
        "print(f\"Время выполнения с использованием конкатенации: {time_concat:.3f} секунд\")"
      ],
      "metadata": {
        "colab": {
          "base_uri": "https://localhost:8080/"
        },
        "id": "5JeeRK_KSLV2",
        "outputId": "83980685-77a6-4905-98fe-d3343f60bf21"
      },
      "execution_count": null,
      "outputs": [
        {
          "output_type": "stream",
          "name": "stdout",
          "text": [
            "Время выполнения с использованием ''.join(): 1.828 секунд\n",
            "Время выполнения с использованием конкатенации: 10.320 секунд\n"
          ]
        }
      ]
    },
    {
      "cell_type": "markdown",
      "source": [
        "Почему join предпочтителен?\n",
        "\n",
        "- Строки в Python неизменяемы. При конкатенации каждый раз создаётся новый объект строки и копируются все предыдущие данные. Это медленно и требует много временной памяти на промежуточные копии.\n",
        "\n",
        "- join не создаёт такие промежуточные копии, а он:\n",
        "  - принимает итерируемый набор строк\n",
        "  - вычисляет общую длину результата\n",
        "  - выделяет один буфер нужной длины\n",
        "  - последовательно копирует каждую строку в этот буфер ровно один раз"
      ],
      "metadata": {
        "id": "lXMxjfPOTUKC"
      }
    },
    {
      "cell_type": "markdown",
      "metadata": {
        "id": "Y9Nexpt3i44U"
      },
      "source": [
        "# Словари"
      ]
    },
    {
      "cell_type": "markdown",
      "metadata": {
        "id": "CShrgUC1i44X"
      },
      "source": [
        "**Словари** (dictionary) позволяют хранить пары ключ-значение. В качестве ключей могут выступать неизменяемые (immutable) значения.\n",
        "\n",
        "Поэтому они используются для быстрого доступа к значению по ключу.\n",
        "\n",
        "Орфографический словарь похож на Python-список. Толковый словарь похож на Python-словарь."
      ]
    },
    {
      "cell_type": "markdown",
      "metadata": {
        "id": "dsq5DdPPi44Z"
      },
      "source": [
        "Список операций:"
      ]
    },
    {
      "cell_type": "code",
      "execution_count": null,
      "metadata": {
        "id": "bPPxr4mUi44a",
        "outputId": "6f062978-f387-4bd6-cff2-203de2f1a0cf",
        "colab": {
          "base_uri": "https://localhost:8080/"
        }
      },
      "outputs": [
        {
          "output_type": "execute_result",
          "data": {
            "text/plain": [
              "['clear',\n",
              " 'copy',\n",
              " 'fromkeys',\n",
              " 'get',\n",
              " 'items',\n",
              " 'keys',\n",
              " 'pop',\n",
              " 'popitem',\n",
              " 'setdefault',\n",
              " 'update',\n",
              " 'values']"
            ]
          },
          "metadata": {},
          "execution_count": 91
        }
      ],
      "source": [
        "[f for f in dir(dict) if not f.startswith('__')]"
      ]
    },
    {
      "cell_type": "markdown",
      "metadata": {
        "id": "ErAKNyHqi44r"
      },
      "source": [
        "Для создания словаря со парами ключ-значение, их нужно перечислить в `{}` через двоеточие `:`"
      ]
    },
    {
      "cell_type": "code",
      "execution_count": null,
      "metadata": {
        "id": "RHir9tUii44r",
        "outputId": "f1af3597-6db3-41e3-d621-2307708bc144",
        "colab": {
          "base_uri": "https://localhost:8080/"
        }
      },
      "outputs": [
        {
          "output_type": "execute_result",
          "data": {
            "text/plain": [
              "{'Alice': 7, 'Bob': 11, 'Charlie': 27}"
            ]
          },
          "metadata": {},
          "execution_count": 92
        }
      ],
      "source": [
        "ages = {'Alice': 7, 'Bob' : 11, 'Charlie': 27}\n",
        "ages"
      ]
    },
    {
      "cell_type": "code",
      "source": [
        "{'Alice': {'7.0': 5}, 'Bob' : 11}"
      ],
      "metadata": {
        "colab": {
          "base_uri": "https://localhost:8080/"
        },
        "id": "wrvh7l73p7xK",
        "outputId": "7405638f-cf5c-4675-e8ee-39f2851d3149"
      },
      "execution_count": null,
      "outputs": [
        {
          "output_type": "execute_result",
          "data": {
            "text/plain": [
              "{'Alice': {'7.0': 5}, 'Bob': 11}"
            ]
          },
          "metadata": {},
          "execution_count": 93
        }
      ]
    },
    {
      "cell_type": "markdown",
      "metadata": {
        "id": "iutIGkf1i44y"
      },
      "source": [
        "## Доступ к элементам"
      ]
    },
    {
      "cell_type": "markdown",
      "metadata": {
        "id": "mVUcMcrFi440"
      },
      "source": [
        "Доступ по несуществующему ключу создаст исключение `KeyError`:"
      ]
    },
    {
      "cell_type": "code",
      "execution_count": null,
      "metadata": {
        "id": "fUz6kYQLi440",
        "outputId": "28585d84-0fa6-4b14-913c-ae7d0adeafc1",
        "colab": {
          "base_uri": "https://localhost:8080/",
          "height": 141
        }
      },
      "outputs": [
        {
          "output_type": "error",
          "ename": "KeyError",
          "evalue": "'Вася'",
          "traceback": [
            "\u001b[0;31m---------------------------------------------------------------------------\u001b[0m",
            "\u001b[0;31mKeyError\u001b[0m                                  Traceback (most recent call last)",
            "\u001b[0;32m/tmp/ipython-input-604754884.py\u001b[0m in \u001b[0;36m<cell line: 0>\u001b[0;34m()\u001b[0m\n\u001b[0;32m----> 1\u001b[0;31m \u001b[0mages\u001b[0m\u001b[0;34m[\u001b[0m\u001b[0;34m'Вася'\u001b[0m\u001b[0;34m]\u001b[0m\u001b[0;34m\u001b[0m\u001b[0;34m\u001b[0m\u001b[0m\n\u001b[0m",
            "\u001b[0;31mKeyError\u001b[0m: 'Вася'"
          ]
        }
      ],
      "source": [
        "ages['Вася']"
      ]
    },
    {
      "cell_type": "markdown",
      "metadata": {
        "id": "e9fPQBKEi440"
      },
      "source": [
        "Чтобы его избежать, часто используют оператор `in` и выражение `not in`:"
      ]
    },
    {
      "cell_type": "code",
      "execution_count": null,
      "metadata": {
        "id": "NC-5yEJxi441"
      },
      "outputs": [],
      "source": [
        "if 'Вася' in ages:\n",
        "    print(ages['Вася'])"
      ]
    },
    {
      "cell_type": "markdown",
      "metadata": {
        "id": "mnmbfaugi441"
      },
      "source": [
        "#### `dict.get(key, default)`"
      ]
    },
    {
      "cell_type": "code",
      "source": [
        "ages.get('Вася')"
      ],
      "metadata": {
        "id": "310zBhDf6Qe4"
      },
      "execution_count": null,
      "outputs": []
    },
    {
      "cell_type": "code",
      "source": [
        "ages.get('Вася', 'нет такого ключа')"
      ],
      "metadata": {
        "colab": {
          "base_uri": "https://localhost:8080/",
          "height": 36
        },
        "id": "OXqFXUDJ6Fwj",
        "outputId": "cb49c0b0-65c6-47b6-d0b0-a9a717422449"
      },
      "execution_count": null,
      "outputs": [
        {
          "output_type": "execute_result",
          "data": {
            "text/plain": [
              "'нет такого ключа'"
            ],
            "application/vnd.google.colaboratory.intrinsic+json": {
              "type": "string"
            }
          },
          "metadata": {},
          "execution_count": 97
        }
      ]
    },
    {
      "cell_type": "markdown",
      "metadata": {
        "id": "pI9TVdWci442"
      },
      "source": [
        "#### `dict.setdefault(key, default)`"
      ]
    },
    {
      "cell_type": "markdown",
      "metadata": {
        "id": "7_SienkSi442"
      },
      "source": [
        "Если ключа key не существует, то создаёт ключ `key` со значением `default`. **Возвращает** (название метода сильно путает) значение по ключу.\n",
        "\n",
        "```\n",
        "if key not in dict:\n",
        "    dict[key] = default\n",
        "return dict[key]\n",
        "```"
      ]
    },
    {
      "cell_type": "code",
      "source": [
        "ages['Петя'] = 5\n",
        "ages"
      ],
      "metadata": {
        "colab": {
          "base_uri": "https://localhost:8080/"
        },
        "id": "RO885q69sIvo",
        "outputId": "3b2474b4-d079-4b9b-d2ac-cffffe46b3fe"
      },
      "execution_count": null,
      "outputs": [
        {
          "output_type": "execute_result",
          "data": {
            "text/plain": [
              "{'Alice': 7, 'Bob': 11, 'Charlie': 27, 'Петя': 5}"
            ]
          },
          "metadata": {},
          "execution_count": 98
        }
      ]
    },
    {
      "cell_type": "code",
      "source": [
        "ages['Петя'] = 50\n",
        "ages"
      ],
      "metadata": {
        "colab": {
          "base_uri": "https://localhost:8080/"
        },
        "id": "kriMrOCKsPAY",
        "outputId": "99e01b2c-6c76-4e83-fe86-0e4501fcd174"
      },
      "execution_count": null,
      "outputs": [
        {
          "output_type": "execute_result",
          "data": {
            "text/plain": [
              "{'Alice': 7, 'Bob': 11, 'Charlie': 27, 'Петя': 50}"
            ]
          },
          "metadata": {},
          "execution_count": 99
        }
      ]
    },
    {
      "cell_type": "code",
      "source": [
        "if 'Петя' in ages:\n",
        "    print(ages['Петя'])\n",
        "else:\n",
        "    ages['Петя'] = 555\n",
        "\n",
        "ages"
      ],
      "metadata": {
        "colab": {
          "base_uri": "https://localhost:8080/"
        },
        "id": "ivBTdhF6sWFX",
        "outputId": "c0d22964-a364-4c04-d0f1-83b0eb0f20b0"
      },
      "execution_count": null,
      "outputs": [
        {
          "output_type": "stream",
          "name": "stdout",
          "text": [
            "50\n"
          ]
        },
        {
          "output_type": "execute_result",
          "data": {
            "text/plain": [
              "{'Alice': 7, 'Bob': 11, 'Charlie': 27, 'Петя': 50}"
            ]
          },
          "metadata": {},
          "execution_count": 100
        }
      ]
    },
    {
      "cell_type": "code",
      "source": [
        "ages = {'Alice': 7, 'Bob' : 11, 'Charlie': 27}\n",
        "\n",
        "ages.setdefault('Петя', 5)"
      ],
      "metadata": {
        "colab": {
          "base_uri": "https://localhost:8080/"
        },
        "id": "uait-2U_6Wdw",
        "outputId": "ecc8f962-4911-491b-da6d-1a83b5604162"
      },
      "execution_count": null,
      "outputs": [
        {
          "output_type": "execute_result",
          "data": {
            "text/plain": [
              "5"
            ]
          },
          "metadata": {},
          "execution_count": 101
        }
      ]
    },
    {
      "cell_type": "code",
      "execution_count": null,
      "metadata": {
        "id": "K94p3PNhi444",
        "colab": {
          "base_uri": "https://localhost:8080/"
        },
        "outputId": "68c00661-f1c4-4c11-f6bd-0c67dd75e6fb"
      },
      "outputs": [
        {
          "output_type": "execute_result",
          "data": {
            "text/plain": [
              "{'Alice': 7, 'Bob': 11, 'Charlie': 27, 'Петя': 5}"
            ]
          },
          "metadata": {},
          "execution_count": 102
        }
      ],
      "source": [
        "ages"
      ]
    },
    {
      "cell_type": "code",
      "execution_count": null,
      "metadata": {
        "id": "kU3hDggTi444",
        "outputId": "4f144519-e485-425b-e494-45d0ddbbe19e",
        "colab": {
          "base_uri": "https://localhost:8080/"
        }
      },
      "outputs": [
        {
          "output_type": "execute_result",
          "data": {
            "text/plain": [
              "5"
            ]
          },
          "metadata": {},
          "execution_count": 103
        }
      ],
      "source": [
        "ages.setdefault('Петя', 555)"
      ]
    },
    {
      "cell_type": "markdown",
      "metadata": {
        "id": "diTHwYBSi444"
      },
      "source": [
        "### Перебор ключей и значений"
      ]
    },
    {
      "cell_type": "markdown",
      "metadata": {
        "id": "RFpKVZayi444"
      },
      "source": [
        "Можно получить все ключи и значения в виде списка:"
      ]
    },
    {
      "cell_type": "code",
      "execution_count": null,
      "metadata": {
        "id": "ZdQ7zhf9i444",
        "outputId": "221cd290-42dc-42df-a302-9ed8c080c201",
        "colab": {
          "base_uri": "https://localhost:8080/"
        }
      },
      "outputs": [
        {
          "output_type": "execute_result",
          "data": {
            "text/plain": [
              "dict_keys(['Alice', 'Bob', 'Charlie', 'Петя'])"
            ]
          },
          "metadata": {},
          "execution_count": 104
        }
      ],
      "source": [
        "ages.keys()"
      ]
    },
    {
      "cell_type": "code",
      "source": [
        "for key in ages.keys():\n",
        "    print(key)"
      ],
      "metadata": {
        "colab": {
          "base_uri": "https://localhost:8080/"
        },
        "id": "ZwmwDSpLtI39",
        "outputId": "2ba3eb72-c5f5-4170-b6f6-088e5c382a63"
      },
      "execution_count": null,
      "outputs": [
        {
          "output_type": "stream",
          "name": "stdout",
          "text": [
            "Alice\n",
            "Bob\n",
            "Charlie\n",
            "Петя\n"
          ]
        }
      ]
    },
    {
      "cell_type": "code",
      "execution_count": null,
      "metadata": {
        "id": "XHUy1mkCi445",
        "outputId": "1da3668a-463b-4e6b-d537-1e2854ac6b37",
        "colab": {
          "base_uri": "https://localhost:8080/"
        }
      },
      "outputs": [
        {
          "output_type": "stream",
          "name": "stdout",
          "text": [
            "Имя=Alice, Возраст=7\n",
            "Имя=Bob, Возраст=11\n",
            "Имя=Charlie, Возраст=27\n",
            "Имя=Петя, Возраст=5\n"
          ]
        }
      ],
      "source": [
        "for key in ages.keys():\n",
        "    val = ages[key]\n",
        "    print(f'Имя={key}, Возраст={val}')"
      ]
    },
    {
      "cell_type": "code",
      "execution_count": null,
      "metadata": {
        "id": "cgkJ9OTei445",
        "outputId": "07d3397b-8cb7-45cb-e00a-1a85f2cd498e",
        "colab": {
          "base_uri": "https://localhost:8080/"
        }
      },
      "outputs": [
        {
          "output_type": "execute_result",
          "data": {
            "text/plain": [
              "dict_values([7, 11, 27, 5])"
            ]
          },
          "metadata": {},
          "execution_count": 107
        }
      ],
      "source": [
        "ages.values()"
      ]
    },
    {
      "cell_type": "code",
      "source": [
        "for val in ages.values():\n",
        "    print(val)"
      ],
      "metadata": {
        "colab": {
          "base_uri": "https://localhost:8080/"
        },
        "id": "lQk3xjeKtUEM",
        "outputId": "debb244c-b867-44c9-d138-43f3fd89603b"
      },
      "execution_count": null,
      "outputs": [
        {
          "output_type": "stream",
          "name": "stdout",
          "text": [
            "7\n",
            "11\n",
            "27\n",
            "5\n"
          ]
        }
      ]
    },
    {
      "cell_type": "code",
      "execution_count": null,
      "metadata": {
        "id": "tHkS8Rrti446",
        "outputId": "68c37d53-7d29-4141-8dae-ffe042a91277",
        "colab": {
          "base_uri": "https://localhost:8080/"
        }
      },
      "outputs": [
        {
          "output_type": "execute_result",
          "data": {
            "text/plain": [
              "dict_items([('Alice', 7), ('Bob', 11), ('Charlie', 27), ('Петя', 5)])"
            ]
          },
          "metadata": {},
          "execution_count": 109
        }
      ],
      "source": [
        "ages.items()"
      ]
    },
    {
      "cell_type": "code",
      "execution_count": null,
      "metadata": {
        "id": "cEIWEHkhi446",
        "outputId": "bd3ca9c3-d596-449c-e6db-967937784031",
        "colab": {
          "base_uri": "https://localhost:8080/"
        }
      },
      "outputs": [
        {
          "output_type": "stream",
          "name": "stdout",
          "text": [
            "('Alice', 7)\n",
            "Имя=Alice, Возраст=7\n",
            "('Bob', 11)\n",
            "Имя=Bob, Возраст=11\n",
            "('Charlie', 27)\n",
            "Имя=Charlie, Возраст=27\n",
            "('Петя', 5)\n",
            "Имя=Петя, Возраст=5\n"
          ]
        }
      ],
      "source": [
        "for el in ages.items():\n",
        "    print(el)\n",
        "    print(f'Имя={el[0]}, Возраст={el[1]}')"
      ]
    },
    {
      "cell_type": "code",
      "source": [
        "for k, v in ages.items():\n",
        "    print(f'Имя={k}, Возраст={v}')"
      ],
      "metadata": {
        "colab": {
          "base_uri": "https://localhost:8080/"
        },
        "id": "whTmsqlGtoFd",
        "outputId": "5feec3ce-2067-46bb-ef59-942dade8c2a0"
      },
      "execution_count": null,
      "outputs": [
        {
          "output_type": "stream",
          "name": "stdout",
          "text": [
            "Имя=Alice, Возраст=7\n",
            "Имя=Bob, Возраст=11\n",
            "Имя=Charlie, Возраст=27\n",
            "Имя=Петя, Возраст=5\n"
          ]
        }
      ]
    },
    {
      "cell_type": "markdown",
      "metadata": {
        "id": "v05mMogOi448"
      },
      "source": [
        "## 🧠 Популярная буква"
      ]
    },
    {
      "cell_type": "markdown",
      "metadata": {
        "id": "Fc3jy6p3i448"
      },
      "source": [
        "Задана строка. Нужно найти букву, которая встречается чаще всего. Если таких букв несколько, то можно использовать любую среди них."
      ]
    },
    {
      "cell_type": "code",
      "execution_count": null,
      "metadata": {
        "id": "vuwY12vri448",
        "outputId": "bbab4b7a-5747-4bf0-85b1-91274d2d0ce6",
        "colab": {
          "base_uri": "https://localhost:8080/"
        }
      },
      "outputs": [
        {
          "output_type": "stream",
          "name": "stdout",
          "text": [
            "Самая популярная буква: в\n"
          ]
        }
      ],
      "source": [
        "sent = \"Вот такие буквы\"\n",
        "\n",
        "..."
      ]
    },
    {
      "cell_type": "markdown",
      "metadata": {
        "id": "0fhr_Gaji449"
      },
      "source": [
        "### 🧠 Популярная буква (ответ)"
      ]
    },
    {
      "cell_type": "markdown",
      "metadata": {
        "id": "JuoP4j9Wi449"
      },
      "source": [
        "Задана строка. Нужно найти букву, которая встречается чаще всего. Если таких букв несколько, то можно использовать любую среди них."
      ]
    },
    {
      "cell_type": "code",
      "execution_count": null,
      "metadata": {
        "id": "uIsIamnGi449",
        "outputId": "72154f1a-6d30-4ff4-bca1-1af429a53a5f",
        "colab": {
          "base_uri": "https://localhost:8080/"
        }
      },
      "outputs": [
        {
          "output_type": "stream",
          "name": "stdout",
          "text": [
            "Самая популярная буква: т\n"
          ]
        }
      ],
      "source": [
        "s = \"Вот такие буквы\"\n",
        "\n",
        "freq = {}\n",
        "for letter in s:\n",
        "    freq[letter] = freq.get(letter, 0) + 1\n",
        "\n",
        "max_n, max_letter = 0, None\n",
        "for letter, count in freq.items():\n",
        "    if count > max_n:\n",
        "        max_n = count\n",
        "        max_letter = letter\n",
        "\n",
        "print('Самая популярная буква:', max_letter)"
      ]
    },
    {
      "cell_type": "markdown",
      "source": [
        "Или же можно воспользоваться специальным объектом Counter"
      ],
      "metadata": {
        "id": "h1ZdDkJd7Wzr"
      }
    },
    {
      "cell_type": "code",
      "source": [
        "from collections import Counter\n",
        "\n",
        "counter_s = Counter(s.lower())\n",
        "counter_s"
      ],
      "metadata": {
        "colab": {
          "base_uri": "https://localhost:8080/"
        },
        "id": "sWQIiji46pZP",
        "outputId": "fb50e1fe-fdff-4ece-e7a4-3d177b998e39"
      },
      "execution_count": null,
      "outputs": [
        {
          "output_type": "execute_result",
          "data": {
            "text/plain": [
              "Counter({'в': 2,\n",
              "         'о': 1,\n",
              "         'т': 2,\n",
              "         ' ': 2,\n",
              "         'а': 1,\n",
              "         'к': 2,\n",
              "         'и': 1,\n",
              "         'е': 1,\n",
              "         'б': 1,\n",
              "         'у': 1,\n",
              "         'ы': 1})"
            ]
          },
          "metadata": {},
          "execution_count": 113
        }
      ]
    },
    {
      "cell_type": "code",
      "source": [
        "sorted(counter_s)"
      ],
      "metadata": {
        "colab": {
          "base_uri": "https://localhost:8080/"
        },
        "id": "rlvFmb9h6yRz",
        "outputId": "23b5c1f6-d53c-4a34-d65b-8be50a53a3b3"
      },
      "execution_count": null,
      "outputs": [
        {
          "output_type": "execute_result",
          "data": {
            "text/plain": [
              "[' ', 'а', 'б', 'в', 'е', 'и', 'к', 'о', 'т', 'у', 'ы']"
            ]
          },
          "metadata": {},
          "execution_count": 114
        }
      ]
    },
    {
      "cell_type": "code",
      "source": [
        "counter_s.items()"
      ],
      "metadata": {
        "colab": {
          "base_uri": "https://localhost:8080/"
        },
        "id": "rdvy42qUy058",
        "outputId": "66ad6a8e-b095-4cf6-82e6-a8e32e37a0ac"
      },
      "execution_count": null,
      "outputs": [
        {
          "output_type": "execute_result",
          "data": {
            "text/plain": [
              "dict_items([('в', 2), ('о', 1), ('т', 2), (' ', 2), ('а', 1), ('к', 2), ('и', 1), ('е', 1), ('б', 1), ('у', 1), ('ы', 1)])"
            ]
          },
          "metadata": {},
          "execution_count": 115
        }
      ]
    },
    {
      "cell_type": "code",
      "source": [
        "def my_key(item):\n",
        "    return item[1]\n",
        "\n",
        "sorted(counter_s.items(), key=my_key)"
      ],
      "metadata": {
        "colab": {
          "base_uri": "https://localhost:8080/"
        },
        "id": "0MyCjk7C6zYJ",
        "outputId": "a1061593-16b7-4787-8896-e662fb9253d8"
      },
      "execution_count": null,
      "outputs": [
        {
          "output_type": "execute_result",
          "data": {
            "text/plain": [
              "[('о', 1),\n",
              " ('а', 1),\n",
              " ('и', 1),\n",
              " ('е', 1),\n",
              " ('б', 1),\n",
              " ('у', 1),\n",
              " ('ы', 1),\n",
              " ('в', 2),\n",
              " ('т', 2),\n",
              " (' ', 2),\n",
              " ('к', 2)]"
            ]
          },
          "metadata": {},
          "execution_count": 116
        }
      ]
    },
    {
      "cell_type": "code",
      "source": [
        "sorted_counter_s = sorted(counter_s.items(), key=lambda item: item[1])\n",
        "sorted_counter_s"
      ],
      "metadata": {
        "colab": {
          "base_uri": "https://localhost:8080/"
        },
        "id": "tgLlkBS_65Pv",
        "outputId": "20345168-b82c-4e79-91ac-54f8d43eafc4"
      },
      "execution_count": null,
      "outputs": [
        {
          "output_type": "execute_result",
          "data": {
            "text/plain": [
              "[('о', 1),\n",
              " ('а', 1),\n",
              " ('и', 1),\n",
              " ('е', 1),\n",
              " ('б', 1),\n",
              " ('у', 1),\n",
              " ('ы', 1),\n",
              " ('в', 2),\n",
              " ('т', 2),\n",
              " (' ', 2),\n",
              " ('к', 2)]"
            ]
          },
          "metadata": {},
          "execution_count": 117
        }
      ]
    },
    {
      "cell_type": "code",
      "source": [
        "sorted_counter_s[-1][0]"
      ],
      "metadata": {
        "colab": {
          "base_uri": "https://localhost:8080/",
          "height": 73
        },
        "id": "iAmGtnw37Rqf",
        "outputId": "eebf4c18-f66d-4b30-8344-a73043f1757b"
      },
      "execution_count": null,
      "outputs": [
        {
          "output_type": "execute_result",
          "data": {
            "text/plain": [
              "'к'"
            ],
            "application/vnd.google.colaboratory.intrinsic+json": {
              "type": "string"
            }
          },
          "metadata": {},
          "execution_count": 118
        }
      ]
    },
    {
      "cell_type": "markdown",
      "metadata": {
        "id": "M_J5Soup_9eI"
      },
      "source": [
        "## 🧠 Посчитаем средний возраст в коллективе"
      ]
    },
    {
      "cell_type": "code",
      "metadata": {
        "id": "1p9kq0qx__sL"
      },
      "source": [
        "people = {1: {'name': 'Oleg', 'age': '29', 'sex': 'Male'},\n",
        "          2: {'name': 'Kate', 'age': '21', 'sex': 'Female'},\n",
        "          3: {'name': 'Liza', 'age': '24', 'sex': 'Female'},\n",
        "          4: {'name': 'Pavel', 'age': '36', 'sex': 'Male'}}"
      ],
      "execution_count": null,
      "outputs": []
    },
    {
      "cell_type": "code",
      "source": [],
      "metadata": {
        "colab": {
          "base_uri": "https://localhost:8080/"
        },
        "id": "T6o_7CWlnpHb",
        "outputId": "3851af1a-4799-41bb-db41-b380588c1e8f"
      },
      "execution_count": null,
      "outputs": [
        {
          "output_type": "execute_result",
          "data": {
            "text/plain": [
              "27.5"
            ]
          },
          "metadata": {},
          "execution_count": 105
        }
      ]
    },
    {
      "cell_type": "markdown",
      "source": [
        "### 🧠 Посчитаем средний возраст в коллективе (ответ)"
      ],
      "metadata": {
        "id": "7reF69ZknnJ0"
      }
    },
    {
      "cell_type": "code",
      "source": [
        "age = 0\n",
        "\n",
        "for el in people.values():\n",
        "    age += int(el['age'])\n",
        "print(age / len(people))"
      ],
      "metadata": {
        "colab": {
          "base_uri": "https://localhost:8080/"
        },
        "id": "MFwhuil_65OI",
        "outputId": "c7389aee-36c0-424e-e329-be422ae3e118"
      },
      "execution_count": null,
      "outputs": [
        {
          "output_type": "stream",
          "name": "stdout",
          "text": [
            "27.5\n"
          ]
        }
      ]
    },
    {
      "cell_type": "code",
      "source": [
        "for el in people.values():\n",
        "  print(int(el['age']))"
      ],
      "metadata": {
        "colab": {
          "base_uri": "https://localhost:8080/"
        },
        "id": "lO7X6QOP-7su",
        "outputId": "6774a9f0-5344-4818-ae6f-a196553fc7d9"
      },
      "execution_count": null,
      "outputs": [
        {
          "output_type": "stream",
          "name": "stdout",
          "text": [
            "29\n",
            "21\n",
            "24\n",
            "36\n"
          ]
        }
      ]
    },
    {
      "cell_type": "code",
      "source": [
        "sum([int(el['age']) for el in people.values()]) / len(people)"
      ],
      "metadata": {
        "colab": {
          "base_uri": "https://localhost:8080/"
        },
        "id": "kuraalY8_M3U",
        "outputId": "9e3b4ddd-ae50-418a-abe2-d4420390b272"
      },
      "execution_count": null,
      "outputs": [
        {
          "output_type": "execute_result",
          "data": {
            "text/plain": [
              "27.5"
            ]
          },
          "metadata": {},
          "execution_count": 123
        }
      ]
    },
    {
      "cell_type": "markdown",
      "metadata": {
        "id": "KUXrz2EDjW_X"
      },
      "source": [
        "# Списковые выражения"
      ]
    },
    {
      "cell_type": "markdown",
      "metadata": {
        "id": "4gjR1dSqjW_b"
      },
      "source": [
        "**Списковые выражения** (list comprehension) генерирует новый список на основе имеющейся коллекции (часто это другие списки; но можно взять и словари, например).\n",
        "\n",
        "Синтаксис:\n",
        "\n",
        "```python\n",
        "new_list = [expression for member in iterable]\n",
        "new_list = [expression for member in iterable if conditional]\n",
        "new_list = [expression1 if conditional else expression2 for member in iterable]\n",
        "```\n",
        "\n",
        "Пример:"
      ]
    },
    {
      "cell_type": "code",
      "source": [
        "list1 = []\n",
        "for x in range(1, 10):\n",
        "    list1.append(x)\n",
        "\n",
        "list1"
      ],
      "metadata": {
        "colab": {
          "base_uri": "https://localhost:8080/"
        },
        "id": "E3YTnwbv_J63",
        "outputId": "e09d9a7d-eb69-4f15-d1fc-fc01820547f5"
      },
      "execution_count": null,
      "outputs": [
        {
          "output_type": "execute_result",
          "data": {
            "text/plain": [
              "[1, 2, 3, 4, 5, 6, 7, 8, 9]"
            ]
          },
          "metadata": {},
          "execution_count": 124
        }
      ]
    },
    {
      "cell_type": "code",
      "execution_count": null,
      "metadata": {
        "id": "PSbOCInGjW_d",
        "outputId": "e622aeb1-8bd7-4e24-f541-c453de01b279",
        "colab": {
          "base_uri": "https://localhost:8080/"
        }
      },
      "outputs": [
        {
          "output_type": "execute_result",
          "data": {
            "text/plain": [
              "[1, 2, 3, 4, 5, 6, 7, 8, 9]"
            ]
          },
          "metadata": {},
          "execution_count": 125
        }
      ],
      "source": [
        "[x for x in range(1, 10)]"
      ]
    },
    {
      "cell_type": "code",
      "execution_count": null,
      "metadata": {
        "id": "Not3E7-ljW_i",
        "outputId": "7aba78bb-e2f5-42c2-e6af-1233a7ef6cb2",
        "colab": {
          "base_uri": "https://localhost:8080/"
        }
      },
      "outputs": [
        {
          "output_type": "execute_result",
          "data": {
            "text/plain": [
              "[1, 4, 9, 16]"
            ]
          },
          "metadata": {},
          "execution_count": 126
        }
      ],
      "source": [
        "data = [1, 2, 3, 4]\n",
        "\n",
        "squares = []\n",
        "for d in data:\n",
        "    squares.append(d*d)\n",
        "\n",
        "squares"
      ]
    },
    {
      "cell_type": "code",
      "source": [
        "# через list comprehesnsion\n",
        "[x*x for x in data]"
      ],
      "metadata": {
        "colab": {
          "base_uri": "https://localhost:8080/"
        },
        "id": "PAVZ6fsk_xTi",
        "outputId": "78df1975-3be1-420b-a1cc-358429cceb97"
      },
      "execution_count": null,
      "outputs": [
        {
          "output_type": "execute_result",
          "data": {
            "text/plain": [
              "[1, 4, 9, 16]"
            ]
          },
          "metadata": {},
          "execution_count": 127
        }
      ]
    },
    {
      "cell_type": "markdown",
      "metadata": {
        "id": "I9mj9YLhjW_v"
      },
      "source": [
        "По сути, это синтаксический сахар для цикла `for`:"
      ]
    },
    {
      "cell_type": "code",
      "execution_count": null,
      "metadata": {
        "id": "fsIbGa4LjW_w",
        "outputId": "78665888-1dff-4b38-c116-171a8a996cb7",
        "colab": {
          "base_uri": "https://localhost:8080/"
        }
      },
      "outputs": [
        {
          "output_type": "execute_result",
          "data": {
            "text/plain": [
              "[1, 4, 9, 16]"
            ]
          },
          "metadata": {},
          "execution_count": 128
        }
      ],
      "source": [
        "squares = []\n",
        "for x in range(1, 5):\n",
        "    squares.append(x ** 2)\n",
        "\n",
        "squares"
      ]
    },
    {
      "cell_type": "markdown",
      "metadata": {
        "id": "PaFkY2czjW_x"
      },
      "source": [
        "## Условия в выражении\n",
        "\n",
        "Условие (`if` без `else`) позволяет указать значения, которые попадут в результат:"
      ]
    },
    {
      "cell_type": "code",
      "execution_count": null,
      "metadata": {
        "id": "zfVbhpw5jW_1",
        "outputId": "9873807e-2671-40e9-d08f-51e36f2753f7",
        "colab": {
          "base_uri": "https://localhost:8080/"
        }
      },
      "outputs": [
        {
          "output_type": "execute_result",
          "data": {
            "text/plain": [
              "[1, 3, 5, 7, 9]"
            ]
          },
          "metadata": {},
          "execution_count": 129
        }
      ],
      "source": [
        "odds = [x for x in range(10) if x % 2 != 0]\n",
        "odds"
      ]
    },
    {
      "cell_type": "code",
      "execution_count": null,
      "metadata": {
        "id": "JfCwX-mPjW_2",
        "outputId": "8c6d496d-50d7-41f6-8fe6-3bdb7d4b0329",
        "colab": {
          "base_uri": "https://localhost:8080/"
        }
      },
      "outputs": [
        {
          "output_type": "execute_result",
          "data": {
            "text/plain": [
              "[1, 3, 5, 7, 9]"
            ]
          },
          "metadata": {},
          "execution_count": 130
        }
      ],
      "source": [
        "odds = []\n",
        "\n",
        "for x in range(10):\n",
        "    if x % 2 != 0:\n",
        "        odds.append(x)\n",
        "odds"
      ]
    },
    {
      "cell_type": "markdown",
      "metadata": {
        "id": "94xMlY-pjW_3"
      },
      "source": [
        "Условие может содержать ветку `else`, но записывается оно до `for`:\n",
        "\n",
        "```python\n",
        "new_list = [expression for member in iterable if conditional]\n",
        "new_list = [expression1 if conditional else expression2 for member in iterable]\n",
        "```"
      ]
    },
    {
      "cell_type": "code",
      "source": [
        "import math\n",
        "\n",
        "sqrts = []\n",
        "for x in range(-4, 5):\n",
        "    if x >= 0:\n",
        "        sqrts.append(math.sqrt(x))\n",
        "    else:\n",
        "        sqrts.append(math.nan)\n",
        "\n",
        "sqrts"
      ],
      "metadata": {
        "colab": {
          "base_uri": "https://localhost:8080/"
        },
        "id": "qEY-3g1sBCDk",
        "outputId": "2a9cb1ce-d70f-449d-aa76-240c8293c106"
      },
      "execution_count": null,
      "outputs": [
        {
          "output_type": "execute_result",
          "data": {
            "text/plain": [
              "[nan, nan, nan, nan, 0.0, 1.0, 1.4142135623730951, 1.7320508075688772, 2.0]"
            ]
          },
          "metadata": {},
          "execution_count": 131
        }
      ]
    },
    {
      "cell_type": "code",
      "execution_count": null,
      "metadata": {
        "id": "f1Zd3J6CjW_3",
        "outputId": "01d64a7c-0186-46bb-b5ae-c165ee4669d5",
        "colab": {
          "base_uri": "https://localhost:8080/"
        }
      },
      "outputs": [
        {
          "output_type": "execute_result",
          "data": {
            "text/plain": [
              "[nan, nan, nan, nan, 0.0, 1.0, 1.4142135623730951, 1.7320508075688772, 2.0]"
            ]
          },
          "metadata": {},
          "execution_count": 132
        }
      ],
      "source": [
        "import math\n",
        "\n",
        "[math.sqrt(x) if x >= 0 else math.nan for x in range(-4, 5)]"
      ]
    },
    {
      "cell_type": "markdown",
      "metadata": {
        "id": "LTZAb9dRjW_4"
      },
      "source": [
        "## Последовательные выражения подряд\n",
        "\n",
        "Можно строить вложенные конструкции, используя запись нескольких выражений подряд:"
      ]
    },
    {
      "cell_type": "code",
      "source": [
        "result = []\n",
        "for x in range(1, 3):\n",
        "    for y in ['A', 'B', 'C']:\n",
        "        result.append((x, y))\n",
        "\n",
        "result"
      ],
      "metadata": {
        "colab": {
          "base_uri": "https://localhost:8080/"
        },
        "id": "5E8YQdfuBWjn",
        "outputId": "93b1bbac-bbfe-4356-e789-ca20504e83b4"
      },
      "execution_count": null,
      "outputs": [
        {
          "output_type": "execute_result",
          "data": {
            "text/plain": [
              "[(1, 'A'), (1, 'B'), (1, 'C'), (2, 'A'), (2, 'B'), (2, 'C')]"
            ]
          },
          "metadata": {},
          "execution_count": 133
        }
      ]
    },
    {
      "cell_type": "code",
      "execution_count": null,
      "metadata": {
        "id": "-v35cuIVjW_4",
        "outputId": "c1a0e512-fe19-44f1-801d-a87ef92db152",
        "colab": {
          "base_uri": "https://localhost:8080/"
        }
      },
      "outputs": [
        {
          "output_type": "execute_result",
          "data": {
            "text/plain": [
              "[(1, 'A'), (1, 'B'), (1, 'C'), (2, 'A'), (2, 'B'), (2, 'C')]"
            ]
          },
          "metadata": {},
          "execution_count": 134
        }
      ],
      "source": [
        "[(x, y) for x in range(1, 3) for y in ['A', 'B', 'C']]"
      ]
    },
    {
      "cell_type": "code",
      "execution_count": null,
      "metadata": {
        "id": "yTEjjufSjW_5",
        "outputId": "9302d535-1997-4a6b-97db-cde0158b1683",
        "colab": {
          "base_uri": "https://localhost:8080/"
        }
      },
      "outputs": [
        {
          "output_type": "execute_result",
          "data": {
            "text/plain": [
              "[(1, 'A', 'X'),\n",
              " (1, 'A', 'Y'),\n",
              " (1, 'B', 'X'),\n",
              " (1, 'B', 'Y'),\n",
              " (1, 'C', 'X'),\n",
              " (1, 'C', 'Y'),\n",
              " (2, 'A', 'X'),\n",
              " (2, 'A', 'Y'),\n",
              " (2, 'B', 'X'),\n",
              " (2, 'B', 'Y'),\n",
              " (2, 'C', 'X'),\n",
              " (2, 'C', 'Y')]"
            ]
          },
          "metadata": {},
          "execution_count": 135
        }
      ],
      "source": [
        "[(x, y, z) for x in range(1, 3) for y in ['A', 'B', 'C'] for z in ['X', 'Y']]"
      ]
    },
    {
      "cell_type": "markdown",
      "metadata": {
        "id": "WpD8Bh-vjW_6"
      },
      "source": [
        "Можно также использовать условия:"
      ]
    },
    {
      "cell_type": "code",
      "source": [
        "result = []\n",
        "for x in range(1, 4):\n",
        "    for y in range(3, 0, -1):\n",
        "        if x != y:\n",
        "            result.append((x, y))\n",
        "\n",
        "result"
      ],
      "metadata": {
        "colab": {
          "base_uri": "https://localhost:8080/"
        },
        "id": "WxSKZki6BuI2",
        "outputId": "52f05034-6c42-4125-d518-85002f97f1cf"
      },
      "execution_count": null,
      "outputs": [
        {
          "output_type": "execute_result",
          "data": {
            "text/plain": [
              "[(1, 3), (1, 2), (2, 3), (2, 1), (3, 2), (3, 1)]"
            ]
          },
          "metadata": {},
          "execution_count": 138
        }
      ]
    },
    {
      "cell_type": "code",
      "execution_count": null,
      "metadata": {
        "id": "zKD57yn-jW_6",
        "outputId": "5fbcdfbe-a911-456e-a4fd-0ae0adc5d7c8",
        "colab": {
          "base_uri": "https://localhost:8080/"
        }
      },
      "outputs": [
        {
          "output_type": "execute_result",
          "data": {
            "text/plain": [
              "[(1, 3), (1, 2), (2, 3), (2, 1), (3, 2), (3, 1)]"
            ]
          },
          "metadata": {},
          "execution_count": 139
        }
      ],
      "source": [
        "[(x, y) for x in range(1, 4) for y in range(3, 0, -1) if x != y]"
      ]
    },
    {
      "cell_type": "markdown",
      "metadata": {
        "id": "zrrma9oGjW_8"
      },
      "source": [
        "## Переменная `_`\n",
        "\n",
        "Иногда используют валидное имя переменной `_`, чтобы не придумывать другое:"
      ]
    },
    {
      "cell_type": "code",
      "source": [
        "[x for x in range(5)]"
      ],
      "metadata": {
        "colab": {
          "base_uri": "https://localhost:8080/"
        },
        "id": "0l3bKrXfCFj3",
        "outputId": "851b09eb-02d0-4320-e3f5-182e7507f0ea"
      },
      "execution_count": null,
      "outputs": [
        {
          "output_type": "execute_result",
          "data": {
            "text/plain": [
              "[0, 1, 2, 3, 4]"
            ]
          },
          "metadata": {},
          "execution_count": 140
        }
      ]
    },
    {
      "cell_type": "code",
      "execution_count": null,
      "metadata": {
        "id": "bd59UjX6jW_9",
        "outputId": "3899f8b0-83ed-4315-d171-2846e2e11100",
        "colab": {
          "base_uri": "https://localhost:8080/"
        }
      },
      "outputs": [
        {
          "output_type": "execute_result",
          "data": {
            "text/plain": [
              "[0, 1, 2, 3, 4]"
            ]
          },
          "metadata": {},
          "execution_count": 141
        }
      ],
      "source": [
        "[_ for _ in range(5)]"
      ]
    },
    {
      "cell_type": "code",
      "execution_count": null,
      "metadata": {
        "id": "uiUqIp55jW_9",
        "outputId": "9b681f05-cc0e-4bfc-8bdc-d49137de1386",
        "colab": {
          "base_uri": "https://localhost:8080/"
        }
      },
      "outputs": [
        {
          "output_type": "execute_result",
          "data": {
            "text/plain": [
              "[0, 0, 0]"
            ]
          },
          "metadata": {},
          "execution_count": 142
        }
      ],
      "source": [
        "[0 for _ in range(3)]"
      ]
    },
    {
      "cell_type": "markdown",
      "metadata": {
        "id": "i8_AfVvdjXAG"
      },
      "source": [
        "# ~~Выражения для кортежей~~"
      ]
    },
    {
      "cell_type": "markdown",
      "metadata": {
        "id": "QsO12VZGjXAH"
      },
      "source": [
        "Выражения для кортежей отсутствуют. Но можно создать список и преобразовать его в кортеж:"
      ]
    },
    {
      "cell_type": "code",
      "source": [
        "tuple()\n",
        "()\n",
        "\n",
        "list()\n",
        "[]"
      ],
      "metadata": {
        "id": "0Yt8C6wR3wE_",
        "colab": {
          "base_uri": "https://localhost:8080/"
        },
        "outputId": "8bcf3a66-2861-4336-c909-1e729150b1a7"
      },
      "execution_count": null,
      "outputs": [
        {
          "output_type": "execute_result",
          "data": {
            "text/plain": [
              "[]"
            ]
          },
          "metadata": {},
          "execution_count": 143
        }
      ]
    },
    {
      "cell_type": "code",
      "source": [
        "(1 for i in range(5))"
      ],
      "metadata": {
        "colab": {
          "base_uri": "https://localhost:8080/"
        },
        "id": "Mr_dasLLrgNE",
        "outputId": "917f5c11-6d6f-4798-c5cb-233d22ddd415"
      },
      "execution_count": null,
      "outputs": [
        {
          "output_type": "execute_result",
          "data": {
            "text/plain": [
              "<generator object <genexpr> at 0x7b23f7009cc0>"
            ]
          },
          "metadata": {},
          "execution_count": 144
        }
      ]
    },
    {
      "cell_type": "code",
      "source": [
        "[1 for i in range(5)]"
      ],
      "metadata": {
        "colab": {
          "base_uri": "https://localhost:8080/"
        },
        "id": "1vyZGqm-33OM",
        "outputId": "45421950-a171-4bff-c231-9e91b6dbed3d"
      },
      "execution_count": null,
      "outputs": [
        {
          "output_type": "execute_result",
          "data": {
            "text/plain": [
              "[1, 1, 1, 1, 1]"
            ]
          },
          "metadata": {},
          "execution_count": 145
        }
      ]
    },
    {
      "cell_type": "code",
      "source": [
        "tuple([1 for i in range(5)])"
      ],
      "metadata": {
        "colab": {
          "base_uri": "https://localhost:8080/"
        },
        "id": "aM9cF22t36X9",
        "outputId": "ff9b99c3-b886-4903-acdb-9c0940109e85"
      },
      "execution_count": null,
      "outputs": [
        {
          "output_type": "execute_result",
          "data": {
            "text/plain": [
              "(1, 1, 1, 1, 1)"
            ]
          },
          "metadata": {},
          "execution_count": 146
        }
      ]
    },
    {
      "cell_type": "code",
      "execution_count": null,
      "metadata": {
        "id": "XmdmHgGzjXAH",
        "outputId": "4dcae8f6-d907-40b0-e3cb-e272bfe60f96",
        "colab": {
          "base_uri": "https://localhost:8080/"
        }
      },
      "outputs": [
        {
          "output_type": "execute_result",
          "data": {
            "text/plain": [
              "(0, 2, 4)"
            ]
          },
          "metadata": {},
          "execution_count": 147
        }
      ],
      "source": [
        "tuple([x for x in range(5) if x % 2 == 0])"
      ]
    },
    {
      "cell_type": "markdown",
      "metadata": {
        "id": "3CsivAQ2jXAH"
      },
      "source": [
        "# Выражения для множеств"
      ]
    },
    {
      "cell_type": "code",
      "source": [
        "set()\n",
        "{}  # dict\n",
        "{1, 2, 3}"
      ],
      "metadata": {
        "id": "UWeSdfm74bnY",
        "colab": {
          "base_uri": "https://localhost:8080/"
        },
        "outputId": "7ea5df87-3a0b-4a9b-c84c-22806c03cb90"
      },
      "execution_count": null,
      "outputs": [
        {
          "output_type": "execute_result",
          "data": {
            "text/plain": [
              "{1, 2, 3}"
            ]
          },
          "metadata": {},
          "execution_count": 148
        }
      ]
    },
    {
      "cell_type": "markdown",
      "metadata": {
        "id": "8lK3xgk-jXAH"
      },
      "source": [
        "Применяется всё то же самое, что для списков, но скобки `[]` заменяются на `{}`:"
      ]
    },
    {
      "cell_type": "code",
      "execution_count": null,
      "metadata": {
        "id": "_c5R2mEZjXAH",
        "outputId": "a8f946d3-8281-476b-af73-0f756f7f17ef",
        "colab": {
          "base_uri": "https://localhost:8080/"
        }
      },
      "outputs": [
        {
          "output_type": "execute_result",
          "data": {
            "text/plain": [
              "{' ', 'H', 'W', 'd', 'e', 'l', 'o', 'r'}"
            ]
          },
          "metadata": {},
          "execution_count": 149
        }
      ],
      "source": [
        "{x for x in 'Hello World'}"
      ]
    },
    {
      "cell_type": "code",
      "execution_count": null,
      "metadata": {
        "id": "CZIs1EfbjXAJ",
        "outputId": "09b4715b-8c70-4440-f112-aebb5df28486",
        "colab": {
          "base_uri": "https://localhost:8080/"
        }
      },
      "outputs": [
        {
          "output_type": "execute_result",
          "data": {
            "text/plain": [
              "{'H', 'W'}"
            ]
          },
          "metadata": {},
          "execution_count": 150
        }
      ],
      "source": [
        "{x for x in 'Hello World' if x.isupper()}"
      ]
    },
    {
      "cell_type": "markdown",
      "metadata": {
        "id": "YjkTF5isjXAM"
      },
      "source": [
        "# Выражения для словарей"
      ]
    },
    {
      "cell_type": "markdown",
      "metadata": {
        "id": "nCk-gknNjXAN"
      },
      "source": [
        "Выражения для словарей строятся по похожему принципу, но с двумя отличиями:\n",
        "\n",
        "1. Используйте `{}` вместо `[]`\n",
        "2. Задавайте `key: value` на месте результата"
      ]
    },
    {
      "cell_type": "code",
      "execution_count": null,
      "metadata": {
        "id": "NK6n0FpejXAN",
        "outputId": "2a42009f-f6d2-42b7-8eed-96e6daa76ee1",
        "colab": {
          "base_uri": "https://localhost:8080/"
        }
      },
      "outputs": [
        {
          "output_type": "execute_result",
          "data": {
            "text/plain": [
              "{0: 0, 1: 1, 2: 4, 3: 9, 4: 16}"
            ]
          },
          "metadata": {},
          "execution_count": 151
        }
      ],
      "source": [
        "squares = {i: i**2 for i in range(5)}\n",
        "squares"
      ]
    },
    {
      "cell_type": "code",
      "source": [
        "squares = {}\n",
        "for i in range(5):\n",
        "    squares[i] = [j for j in range(0, i)]\n",
        "\n",
        "squares"
      ],
      "metadata": {
        "colab": {
          "base_uri": "https://localhost:8080/"
        },
        "id": "Ys8KBE715vad",
        "outputId": "e9c4fb4b-e7c2-44d3-ce25-75bc4bffdc24"
      },
      "execution_count": null,
      "outputs": [
        {
          "output_type": "execute_result",
          "data": {
            "text/plain": [
              "{0: [], 1: [0], 2: [0, 1], 3: [0, 1, 2], 4: [0, 1, 2, 3]}"
            ]
          },
          "metadata": {},
          "execution_count": 152
        }
      ]
    },
    {
      "cell_type": "code",
      "source": [
        "{i: [j for j in range(0, i)] for i in range(5)}"
      ],
      "metadata": {
        "colab": {
          "base_uri": "https://localhost:8080/"
        },
        "id": "qNXXK6AVscg9",
        "outputId": "c03392e9-7172-4a8a-8130-349a3d0b9c99"
      },
      "execution_count": null,
      "outputs": [
        {
          "output_type": "execute_result",
          "data": {
            "text/plain": [
              "{0: [], 1: [0], 2: [0, 1], 3: [0, 1, 2], 4: [0, 1, 2, 3]}"
            ]
          },
          "metadata": {},
          "execution_count": 155
        }
      ]
    },
    {
      "cell_type": "code",
      "execution_count": null,
      "metadata": {
        "id": "3rsZrAp9jXAN",
        "outputId": "0a45157b-eb52-4553-deb4-b308cc9b69a2",
        "colab": {
          "base_uri": "https://localhost:8080/"
        }
      },
      "outputs": [
        {
          "output_type": "execute_result",
          "data": {
            "text/plain": [
              "{0: [], 1: [0], 2: [0, 1], 3: [0, 1, 2], 4: [0, 1, 2, 3]}"
            ]
          },
          "metadata": {},
          "execution_count": 156
        }
      ],
      "source": [
        "squares = {\n",
        "    i: [j for j in range(0, i)]\n",
        "    for i in range(5)\n",
        "}\n",
        "squares"
      ]
    },
    {
      "cell_type": "markdown",
      "metadata": {
        "id": "PcuqdtrpjW_-"
      },
      "source": [
        "## 🧠 list"
      ]
    },
    {
      "cell_type": "markdown",
      "metadata": {
        "id": "xOQbSjlqjW_-"
      },
      "source": [
        "С помощью выражений создайте список из `n` одинаковых элементов:\n",
        "\n",
        "- `[0, 0, 0, 0, 0]`\n",
        "- `[1, 1, 1, 1, 1, 1]`"
      ]
    },
    {
      "cell_type": "code",
      "source": [],
      "metadata": {
        "colab": {
          "base_uri": "https://localhost:8080/"
        },
        "id": "jcbPgF2o0q5-",
        "outputId": "50475f04-c7ff-4ef6-e15d-4a36c3ebf898"
      },
      "execution_count": null,
      "outputs": [
        {
          "output_type": "execute_result",
          "data": {
            "text/plain": [
              "[0, 0, 0, 0, 0]"
            ]
          },
          "metadata": {},
          "execution_count": 4
        }
      ]
    },
    {
      "cell_type": "code",
      "execution_count": null,
      "metadata": {
        "id": "30cVY-2PjW_-",
        "colab": {
          "base_uri": "https://localhost:8080/"
        },
        "outputId": "39a037c1-8bad-4514-8864-0ab1da696109"
      },
      "outputs": [
        {
          "output_type": "execute_result",
          "data": {
            "text/plain": [
              "[1, 1, 1, 1, 1, 1]"
            ]
          },
          "metadata": {},
          "execution_count": 6
        }
      ],
      "source": []
    },
    {
      "cell_type": "markdown",
      "metadata": {
        "id": "jxKagM_SjW_-"
      },
      "source": [
        "Создайте нулевую матрицу размера `n x n`:"
      ]
    },
    {
      "cell_type": "code",
      "source": [],
      "metadata": {
        "colab": {
          "base_uri": "https://localhost:8080/"
        },
        "id": "lixXQQni1Qr7",
        "outputId": "4e17a601-261a-4b5a-f0e8-1f48dbb86134"
      },
      "execution_count": null,
      "outputs": [
        {
          "output_type": "execute_result",
          "data": {
            "text/plain": [
              "[[0, 0, 0, 0, 0],\n",
              " [0, 0, 0, 0, 0],\n",
              " [0, 0, 0, 0, 0],\n",
              " [0, 0, 0, 0, 0],\n",
              " [0, 0, 0, 0, 0]]"
            ]
          },
          "metadata": {},
          "execution_count": 10
        }
      ]
    },
    {
      "cell_type": "markdown",
      "metadata": {
        "id": "ar5g4s7IjW__"
      },
      "source": [
        "Создайте единичную матрицу размера `n x n`:"
      ]
    },
    {
      "cell_type": "code",
      "source": [],
      "metadata": {
        "colab": {
          "base_uri": "https://localhost:8080/"
        },
        "id": "CreOzGwp2iOz",
        "outputId": "60374a38-1c57-4871-85d8-eac484c75d44"
      },
      "execution_count": null,
      "outputs": [
        {
          "output_type": "execute_result",
          "data": {
            "text/plain": [
              "[[1, 0, 0, 0, 0],\n",
              " [0, 1, 0, 0, 0],\n",
              " [0, 0, 1, 0, 0],\n",
              " [0, 0, 0, 1, 0],\n",
              " [0, 0, 0, 0, 1]]"
            ]
          },
          "metadata": {},
          "execution_count": 17
        }
      ]
    },
    {
      "cell_type": "markdown",
      "metadata": {
        "id": "wSDgad4XjXAA"
      },
      "source": [
        "Создайте колоду карт попарно перебирая символы `6`, `7`, `8`, `9`, `10`, `В`, `Д`, `К`, `Т` и `♤`, `♡`, `♢`, `♧`:"
      ]
    },
    {
      "cell_type": "code",
      "source": [
        "dos = ['6', '7', '8', '9', '10', 'В', 'Д', 'К', 'Т']\n",
        "mast = ['♤', '♡', '♢', '♧']\n",
        "\n",
        "..."
      ],
      "metadata": {
        "colab": {
          "base_uri": "https://localhost:8080/"
        },
        "id": "UNon9fsY3VyN",
        "outputId": "2fd8b940-c90c-4a35-b90a-2ef3acdbb1b7"
      },
      "execution_count": null,
      "outputs": [
        {
          "output_type": "execute_result",
          "data": {
            "text/plain": [
              "['6♤',\n",
              " '6♡',\n",
              " '6♢',\n",
              " '6♧',\n",
              " '7♤',\n",
              " '7♡',\n",
              " '7♢',\n",
              " '7♧',\n",
              " '8♤',\n",
              " '8♡',\n",
              " '8♢',\n",
              " '8♧',\n",
              " '9♤',\n",
              " '9♡',\n",
              " '9♢',\n",
              " '9♧',\n",
              " '10♤',\n",
              " '10♡',\n",
              " '10♢',\n",
              " '10♧',\n",
              " 'В♤',\n",
              " 'В♡',\n",
              " 'В♢',\n",
              " 'В♧',\n",
              " 'Д♤',\n",
              " 'Д♡',\n",
              " 'Д♢',\n",
              " 'Д♧',\n",
              " 'К♤',\n",
              " 'К♡',\n",
              " 'К♢',\n",
              " 'К♧',\n",
              " 'Т♤',\n",
              " 'Т♡',\n",
              " 'Т♢',\n",
              " 'Т♧']"
            ]
          },
          "metadata": {},
          "execution_count": 20
        }
      ]
    },
    {
      "cell_type": "markdown",
      "metadata": {
        "id": "Mq69xVoKjXAB"
      },
      "source": [
        "### 🧠 (ответ)"
      ]
    },
    {
      "cell_type": "markdown",
      "metadata": {
        "id": "hMq8GfOYjXAC"
      },
      "source": [
        "С помощью выражений создайте список из `n` одинаковых элементов:\n",
        "\n",
        "- `[0, 0, 0, 0, 0]`\n",
        "- `[1, 1, 1, 1, 1, 1]`"
      ]
    },
    {
      "cell_type": "code",
      "execution_count": null,
      "metadata": {
        "id": "hLmB9Qf3jXAC",
        "outputId": "be58647a-e23c-4368-be80-a429cd84cf60",
        "colab": {
          "base_uri": "https://localhost:8080/"
        }
      },
      "outputs": [
        {
          "output_type": "execute_result",
          "data": {
            "text/plain": [
              "[0, 0, 0, 0, 0, 0]"
            ]
          },
          "metadata": {},
          "execution_count": 157
        }
      ],
      "source": [
        "n = 6\n",
        "zeros = [0 for _ in range(n)]\n",
        "zeros"
      ]
    },
    {
      "cell_type": "code",
      "execution_count": null,
      "metadata": {
        "id": "k8QBQr6tjXAC",
        "outputId": "a5b8a428-5aa3-48b2-e42d-1489ea1f24d7",
        "colab": {
          "base_uri": "https://localhost:8080/"
        }
      },
      "outputs": [
        {
          "output_type": "execute_result",
          "data": {
            "text/plain": [
              "[1, 1, 1, 1, 1]"
            ]
          },
          "metadata": {},
          "execution_count": 158
        }
      ],
      "source": [
        "n = 5\n",
        "ones = [1 for _ in range(n)]\n",
        "ones"
      ]
    },
    {
      "cell_type": "markdown",
      "metadata": {
        "id": "f_a1ATEJjXAD"
      },
      "source": [
        "Создайте нулевую матрицу размера `n x n`:"
      ]
    },
    {
      "cell_type": "code",
      "execution_count": null,
      "metadata": {
        "id": "JgKk6CBrjXAD",
        "outputId": "b25182c2-776f-49e5-814c-36a0b796f4ad",
        "colab": {
          "base_uri": "https://localhost:8080/"
        }
      },
      "outputs": [
        {
          "output_type": "execute_result",
          "data": {
            "text/plain": [
              "[[0, 0, 0, 0, 0],\n",
              " [0, 0, 0, 0, 0],\n",
              " [0, 0, 0, 0, 0],\n",
              " [0, 0, 0, 0, 0],\n",
              " [0, 0, 0, 0, 0]]"
            ]
          },
          "metadata": {},
          "execution_count": 159
        }
      ],
      "source": [
        "n = 5\n",
        "zero_mat = [[0 for c in range(n)] for r in range(n)]\n",
        "zero_mat"
      ]
    },
    {
      "cell_type": "markdown",
      "metadata": {
        "id": "vl1_BSYnjXAD"
      },
      "source": [
        "Создайте единичную матрицу размера `n x n`:"
      ]
    },
    {
      "cell_type": "code",
      "execution_count": null,
      "metadata": {
        "id": "hlOSvXaIjXAE",
        "outputId": "65b15919-8b81-4640-fc67-b400976d6621",
        "colab": {
          "base_uri": "https://localhost:8080/"
        }
      },
      "outputs": [
        {
          "output_type": "execute_result",
          "data": {
            "text/plain": [
              "[[1, 0, 0, 0, 0],\n",
              " [0, 1, 0, 0, 0],\n",
              " [0, 0, 1, 0, 0],\n",
              " [0, 0, 0, 1, 0],\n",
              " [0, 0, 0, 0, 1]]"
            ]
          },
          "metadata": {},
          "execution_count": 160
        }
      ],
      "source": [
        "n = 5\n",
        "eye_mat = [[ 0 for c in range(n)] for r in range(n)]\n",
        "for i in range(n):\n",
        "    eye_mat[i][i] = 1\n",
        "eye_mat"
      ]
    },
    {
      "cell_type": "code",
      "execution_count": null,
      "metadata": {
        "id": "3azGtyc1jXAE",
        "outputId": "361f1891-035a-441c-af10-61edb5bb2a61",
        "colab": {
          "base_uri": "https://localhost:8080/"
        }
      },
      "outputs": [
        {
          "output_type": "execute_result",
          "data": {
            "text/plain": [
              "[[1, 0, 0, 0, 0],\n",
              " [0, 1, 0, 0, 0],\n",
              " [0, 0, 1, 0, 0],\n",
              " [0, 0, 0, 1, 0],\n",
              " [0, 0, 0, 0, 1]]"
            ]
          },
          "metadata": {},
          "execution_count": 161
        }
      ],
      "source": [
        "n = 5\n",
        "eye_mat = [[1 if c==r else 0 for c in range(n)] for r in range(n)]\n",
        "eye_mat"
      ]
    },
    {
      "cell_type": "markdown",
      "metadata": {
        "id": "kmFwvEZJjXAF"
      },
      "source": [
        "Создайте колоду карт попарно перебирая символы `6`, `7`, `8`, `9`, `10`, `В`, `Д`, `К`, `Т` и `♤`, `♡`, `♢`, `♧`.\n",
        "\n",
        "Каждое значение - это кортеж из достоинства и масти."
      ]
    },
    {
      "cell_type": "code",
      "execution_count": null,
      "metadata": {
        "id": "-myoZwkajXAF",
        "outputId": "69975d2c-7ab9-4b7a-ac49-bea89c3de50a",
        "colab": {
          "base_uri": "https://localhost:8080/"
        }
      },
      "outputs": [
        {
          "output_type": "execute_result",
          "data": {
            "text/plain": [
              "['6♤',\n",
              " '6♡',\n",
              " '6♢',\n",
              " '6♧',\n",
              " '7♤',\n",
              " '7♡',\n",
              " '7♢',\n",
              " '7♧',\n",
              " '8♤',\n",
              " '8♡',\n",
              " '8♢',\n",
              " '8♧',\n",
              " '9♤',\n",
              " '9♡',\n",
              " '9♢',\n",
              " '9♧',\n",
              " '10♤',\n",
              " '10♡',\n",
              " '10♢',\n",
              " '10♧',\n",
              " 'В♤',\n",
              " 'В♡',\n",
              " 'В♢',\n",
              " 'В♧',\n",
              " 'Д♤',\n",
              " 'Д♡',\n",
              " 'Д♢',\n",
              " 'Д♧',\n",
              " 'К♤',\n",
              " 'К♡',\n",
              " 'К♢',\n",
              " 'К♧',\n",
              " 'Т♤',\n",
              " 'Т♡',\n",
              " 'Т♢',\n",
              " 'Т♧']"
            ]
          },
          "metadata": {},
          "execution_count": 162
        }
      ],
      "source": [
        "dos = ['6', '7', '8', '9', '10', 'В', 'Д', 'К', 'Т']\n",
        "mast = ['♤', '♡', '♢', '♧']\n",
        "[d+m for d in dos for m in mast]"
      ]
    },
    {
      "cell_type": "markdown",
      "metadata": {
        "id": "Bgo6eQt9jXAJ"
      },
      "source": [
        "## 🧠 set"
      ]
    },
    {
      "cell_type": "markdown",
      "metadata": {
        "id": "0ATbMoRVjXAK"
      },
      "source": [
        "Преобразуйте список в множество, оставив в нём элементы большие `25`:"
      ]
    },
    {
      "cell_type": "code",
      "execution_count": null,
      "metadata": {
        "id": "WR3nr06wjXAK"
      },
      "outputs": [],
      "source": [
        "mylist = [10, 20, 30, 40, 10, 30, 50]\n"
      ]
    },
    {
      "cell_type": "markdown",
      "metadata": {
        "id": "sWrxP8UtjXAK"
      },
      "source": [
        "### 🧠 (ответ)"
      ]
    },
    {
      "cell_type": "markdown",
      "metadata": {
        "id": "iYxEQpudjXAL"
      },
      "source": [
        "Преобразуйте список в множество, оставив в нём элементы большие `25`:"
      ]
    },
    {
      "cell_type": "code",
      "execution_count": null,
      "metadata": {
        "id": "fyM4BygMjXAM",
        "outputId": "6146313d-cb5c-4986-8cd8-8265bc2828b2",
        "colab": {
          "base_uri": "https://localhost:8080/"
        }
      },
      "outputs": [
        {
          "output_type": "execute_result",
          "data": {
            "text/plain": [
              "{30, 40, 50}"
            ]
          },
          "metadata": {},
          "execution_count": 163
        }
      ],
      "source": [
        "mylist = [10, 20, 30, 40, 10, 30, 50]\n",
        "myset = {x for x in mylist if x > 25}\n",
        "myset"
      ]
    },
    {
      "cell_type": "markdown",
      "metadata": {
        "id": "ezxEltgajXAO"
      },
      "source": [
        "## 🧠 dict"
      ]
    },
    {
      "cell_type": "markdown",
      "metadata": {
        "id": "phT-vsljjXAO"
      },
      "source": [
        "Задан словарь:"
      ]
    },
    {
      "cell_type": "code",
      "execution_count": null,
      "metadata": {
        "id": "diI6jlm9jXAP"
      },
      "outputs": [],
      "source": [
        "persons = {\n",
        "    'Alice': 7,\n",
        "    'Bob' : 11,\n",
        "    'Charlie': 27,\n",
        "}"
      ]
    },
    {
      "cell_type": "markdown",
      "metadata": {
        "id": "0gyIitlPjXAP"
      },
      "source": [
        "Составьте обратный словарь:\n",
        "- 7 -> Alice\n",
        "- 11 -> Bob\n",
        "- 27 -> Charlie"
      ]
    },
    {
      "cell_type": "code",
      "execution_count": null,
      "metadata": {
        "id": "Dd_nQt8BjXAQ",
        "colab": {
          "base_uri": "https://localhost:8080/"
        },
        "outputId": "cbc33080-fe77-47bb-bd68-e81a15c38e0c"
      },
      "outputs": [
        {
          "output_type": "execute_result",
          "data": {
            "text/plain": [
              "{7: 'Alice', 11: 'Bob', 27: 'Charlie'}"
            ]
          },
          "metadata": {},
          "execution_count": 35
        }
      ],
      "source": []
    },
    {
      "cell_type": "markdown",
      "metadata": {
        "id": "HoZVPoGejXAQ"
      },
      "source": [
        "Какая проблема при обращении словаря может быть?\n",
        "\n",
        "Измените исходные данные, чтобы её продемонстрировать."
      ]
    },
    {
      "cell_type": "markdown",
      "metadata": {
        "id": "UycVOMAKjXAQ"
      },
      "source": [
        "### 🧠 (ответ)"
      ]
    },
    {
      "cell_type": "markdown",
      "metadata": {
        "id": "U-kY_AK2jXAR"
      },
      "source": [
        "Задан словарь:"
      ]
    },
    {
      "cell_type": "code",
      "execution_count": null,
      "metadata": {
        "id": "vtPutOisjXAR",
        "outputId": "4b6aaef6-7f42-4564-cd41-aa2c0563b272",
        "colab": {
          "base_uri": "https://localhost:8080/"
        }
      },
      "outputs": [
        {
          "output_type": "execute_result",
          "data": {
            "text/plain": [
              "{'Alice': 7, 'Bob': 11, 'Charlie': 27, 'David': 11}"
            ]
          },
          "metadata": {},
          "execution_count": 164
        }
      ],
      "source": [
        "persons = {\n",
        "    'Alice': 7,\n",
        "    'Bob' : 11,\n",
        "    'Charlie': 27,\n",
        "    'David': 11,\n",
        "}\n",
        "persons"
      ]
    },
    {
      "cell_type": "markdown",
      "metadata": {
        "id": "mMuAIcPEjXAR"
      },
      "source": [
        "Составьте обратный словарь:\n",
        "- 7 -> Alice\n",
        "- 11 -> Bob\n",
        "- 27 -> Charlie"
      ]
    },
    {
      "cell_type": "code",
      "execution_count": null,
      "metadata": {
        "id": "FnTL5W2cjXAR",
        "outputId": "7fb54f62-474a-4f05-bdd9-d7caa8c411a7",
        "colab": {
          "base_uri": "https://localhost:8080/"
        }
      },
      "outputs": [
        {
          "output_type": "execute_result",
          "data": {
            "text/plain": [
              "{7: 'Alice', 11: 'David', 27: 'Charlie'}"
            ]
          },
          "metadata": {},
          "execution_count": 165
        }
      ],
      "source": [
        "{p[1]: p[0] for p in persons.items()}"
      ]
    },
    {
      "cell_type": "code",
      "execution_count": null,
      "metadata": {
        "id": "p38OQT8mjXAS",
        "outputId": "417f1cba-5a0c-4ebb-b411-31d8949147a4",
        "colab": {
          "base_uri": "https://localhost:8080/"
        }
      },
      "outputs": [
        {
          "output_type": "stream",
          "name": "stdout",
          "text": [
            "('Alice', 7) Alice 7\n",
            "('Bob', 11) Bob 11\n",
            "('Charlie', 27) Charlie 27\n",
            "('David', 11) David 11\n"
          ]
        }
      ],
      "source": [
        "for p in persons.items():\n",
        "    print(p, p[0], p[1])"
      ]
    },
    {
      "cell_type": "code",
      "execution_count": null,
      "metadata": {
        "id": "5Y_I1336jXAS",
        "outputId": "c7180f9b-fe50-4491-e7fa-401518b569c0",
        "colab": {
          "base_uri": "https://localhost:8080/"
        }
      },
      "outputs": [
        {
          "output_type": "execute_result",
          "data": {
            "text/plain": [
              "{7: 'Alice', 11: 'David', 27: 'Charlie'}"
            ]
          },
          "metadata": {},
          "execution_count": 167
        }
      ],
      "source": [
        "{persons[k]: k for k in persons.keys()}"
      ]
    },
    {
      "cell_type": "code",
      "execution_count": null,
      "metadata": {
        "id": "B7AXlbX5jXAT",
        "outputId": "f9fcef3f-859f-4c66-8217-dbdb61557d9a",
        "colab": {
          "base_uri": "https://localhost:8080/"
        }
      },
      "outputs": [
        {
          "output_type": "execute_result",
          "data": {
            "text/plain": [
              "dict_keys(['Alice', 'Bob', 'Charlie', 'David'])"
            ]
          },
          "metadata": {},
          "execution_count": 168
        }
      ],
      "source": [
        "persons.keys()"
      ]
    },
    {
      "cell_type": "code",
      "execution_count": null,
      "metadata": {
        "id": "3M92uiJdjXAT",
        "outputId": "a824c4f5-88f3-4190-bece-68793d7cfa5d",
        "colab": {
          "base_uri": "https://localhost:8080/"
        }
      },
      "outputs": [
        {
          "output_type": "stream",
          "name": "stdout",
          "text": [
            "Alice\n",
            "Bob\n",
            "Charlie\n",
            "David\n"
          ]
        }
      ],
      "source": [
        "for k in persons.keys():\n",
        "    print(k)"
      ]
    },
    {
      "cell_type": "markdown",
      "metadata": {
        "id": "N63ecow_jXAU"
      },
      "source": [
        "Какая проблема при обращении словаря может быть?\n",
        "\n",
        "Измените исходные данные, чтобы её продемонстрировать."
      ]
    },
    {
      "cell_type": "code",
      "source": [
        "d = {}\n",
        "for k, v in persons.items():\n",
        "    if v in d:\n",
        "        v_old = d[v]\n",
        "        v_old.append(k)\n",
        "        d[v] = v_old\n",
        "    else:\n",
        "        d[v] = [k]\n",
        "d"
      ],
      "metadata": {
        "colab": {
          "base_uri": "https://localhost:8080/"
        },
        "id": "RcU1wMPTDGwR",
        "outputId": "6a71696b-6c40-4914-b68a-e5cf62461f0d"
      },
      "execution_count": null,
      "outputs": [
        {
          "output_type": "execute_result",
          "data": {
            "text/plain": [
              "{7: ['Alice'], 11: ['Bob', 'David'], 27: ['Charlie']}"
            ]
          },
          "metadata": {},
          "execution_count": 170
        }
      ]
    },
    {
      "cell_type": "code",
      "source": [],
      "metadata": {
        "id": "xSf9ynqQRdUj"
      },
      "execution_count": null,
      "outputs": []
    },
    {
      "cell_type": "markdown",
      "metadata": {
        "id": "37d50749"
      },
      "source": [
        "## 🧠 Комплексное упражнение\n",
        "\n",
        "Рассмотрим данные о продажах, представленные в виде списка списков, где каждый внутренний список содержит информацию об отдельной транзакции: `[Имя клиента, Продукт, Количество, Цена]`."
      ]
    },
    {
      "cell_type": "code",
      "source": [
        "sales_data = [\n",
        "    [\"Иван\", \"Ноутбук\", 1, 1200],\n",
        "    [\"Мария\", \"Мышь\", 2, 25],\n",
        "    [\"Петр\", \"Клавиатура\", 1, 75],\n",
        "    [\"Елена\", \"Монитор\", 1, 300],\n",
        "    [\"Иван\", \"Мышь\", 1, 25],\n",
        "]\n"
      ],
      "metadata": {
        "id": "j8RczRqhQZWY"
      },
      "execution_count": null,
      "outputs": []
    },
    {
      "cell_type": "markdown",
      "source": [
        "Создать CSV-подобную строку из каждой транзакции:\n",
        "```\n",
        "Иван,Ноутбук,1,1200\n",
        "Мария,Мышь,2,25\n",
        "...\n",
        "Иван,Мышь,1,25\n",
        "```\n"
      ],
      "metadata": {
        "id": "2a2b2BLsRtEO"
      }
    },
    {
      "cell_type": "code",
      "source": [],
      "metadata": {
        "colab": {
          "base_uri": "https://localhost:8080/"
        },
        "outputId": "e138e39b-1c49-4a3c-9f43-72470f668fa7",
        "id": "xLPoKJ8iRtEQ"
      },
      "execution_count": null,
      "outputs": [
        {
          "output_type": "stream",
          "name": "stdout",
          "text": [
            "Данные в формате CSV:\n",
            "Иван,Ноутбук,1,1200\n",
            "Мария,Мышь,2,25\n",
            "Петр,Клавиатура,1,75\n",
            "Елена,Монитор,1,300\n",
            "Иван,Мышь,1,25\n"
          ]
        }
      ]
    },
    {
      "cell_type": "markdown",
      "source": [
        "Получить список всех продуктов, купленных Иваном:\n",
        "```\n",
        "Продукты, купленные Иваном: Ноутбук, Мышь\n",
        "```\n"
      ],
      "metadata": {
        "id": "MQ9uZHkHRtER"
      }
    },
    {
      "cell_type": "code",
      "metadata": {
        "colab": {
          "base_uri": "https://localhost:8080/"
        },
        "outputId": "906b5d0a-a6c6-4dd4-ad7e-6d40992c81fe",
        "id": "XXHE_BeMRtES"
      },
      "source": [],
      "execution_count": null,
      "outputs": [
        {
          "output_type": "stream",
          "name": "stdout",
          "text": [
            "\n",
            "Продукты, купленные Иваном: Ноутбук, Мышь\n"
          ]
        }
      ]
    },
    {
      "cell_type": "markdown",
      "source": [
        "Сформировать отчет о продажах:\n",
        "```\n",
        "Отчет о продажах по продуктам:\n",
        "Ноутбук: 1200\n",
        "Мышь: 75\n",
        "Клавиатура: 75\n",
        "Монитор: 300\n",
        "```\n"
      ],
      "metadata": {
        "id": "v7KGSFIpRtET"
      }
    },
    {
      "cell_type": "code",
      "source": [],
      "metadata": {
        "colab": {
          "base_uri": "https://localhost:8080/"
        },
        "outputId": "1d3327b6-9cc3-45e6-c5d3-0652fa246085",
        "id": "mGa_NeftRtEU"
      },
      "execution_count": null,
      "outputs": [
        {
          "output_type": "stream",
          "name": "stdout",
          "text": [
            "\n",
            "Отчет о продажах по продуктам:\n",
            "Ноутбук: 1200\n",
            "Мышь: 75\n",
            "Клавиатура: 75\n",
            "Монитор: 300\n"
          ]
        }
      ]
    },
    {
      "cell_type": "markdown",
      "source": [
        "### 🧠 Комплексное упражнение (ответ)\n"
      ],
      "metadata": {
        "id": "9J4aV2TQQUuP"
      }
    },
    {
      "cell_type": "markdown",
      "source": [
        "Создать CSV-подобную строку из каждой транзакции:\n",
        "```\n",
        "Иван,Ноутбук,1,1200\n",
        "Мария,Мышь,2,25\n",
        "...\n",
        "Иван,Мышь,1,25\n",
        "```\n"
      ],
      "metadata": {
        "id": "EW4DKfI1Qaab"
      }
    },
    {
      "cell_type": "code",
      "source": [
        "csv_lines = [\",\".join(str(item) for item in transaction) for transaction in sales_data]\n",
        "print(\"Данные в формате CSV:\")\n",
        "for line in csv_lines:\n",
        "    print(line)"
      ],
      "metadata": {
        "colab": {
          "base_uri": "https://localhost:8080/"
        },
        "id": "LCNZQi3tQe_u",
        "outputId": "f10499ec-9ccb-48b0-d545-2d7466119e34"
      },
      "execution_count": null,
      "outputs": [
        {
          "output_type": "stream",
          "name": "stdout",
          "text": [
            "Данные в формате CSV:\n",
            "Иван,Ноутбук,1,1200\n",
            "Мария,Мышь,2,25\n",
            "Петр,Клавиатура,1,75\n",
            "Елена,Монитор,1,300\n",
            "Иван,Мышь,1,25\n"
          ]
        }
      ]
    },
    {
      "cell_type": "markdown",
      "source": [
        "Получить список всех продуктов, купленных Иваном\n"
      ],
      "metadata": {
        "id": "BeFFLsmZQ6tG"
      }
    },
    {
      "cell_type": "code",
      "metadata": {
        "colab": {
          "base_uri": "https://localhost:8080/"
        },
        "id": "fd312cd3",
        "outputId": "e2071bc1-5d66-4e23-9f94-b9e923811446"
      },
      "source": [
        "ivan_purchases = [transaction[1] for transaction in sales_data if transaction[0] == \"Иван\"]\n",
        "ivan_products_string = \", \".join(ivan_purchases)\n",
        "print(\"\\nПродукты, купленные Иваном:\", ivan_products_string)"
      ],
      "execution_count": null,
      "outputs": [
        {
          "output_type": "stream",
          "name": "stdout",
          "text": [
            "\n",
            "Продукты, купленные Иваном: Ноутбук, Мышь\n"
          ]
        }
      ]
    },
    {
      "cell_type": "markdown",
      "source": [
        "Сформировать отчет о продажах\n"
      ],
      "metadata": {
        "id": "zNxqXeXNQqBL"
      }
    },
    {
      "cell_type": "code",
      "source": [
        "product_sales = {}\n",
        "for transaction in sales_data:\n",
        "    product = transaction[1]\n",
        "    quantity = transaction[2]\n",
        "    price = transaction[3]\n",
        "    total_price = quantity * price\n",
        "    product_sales[product] = product_sales.get(product, 0) + total_price\n",
        "\n",
        "print(\"\\nОтчет о продажах по продуктам:\")\n",
        "for product, total_sale in product_sales.items():\n",
        "    report_line = \": \".join([product, str(total_sale)])\n",
        "    print(report_line)"
      ],
      "metadata": {
        "colab": {
          "base_uri": "https://localhost:8080/"
        },
        "id": "P3keE2UQQu5Z",
        "outputId": "dee3c572-3bb1-44a8-8a9e-69cd765b6c2e"
      },
      "execution_count": null,
      "outputs": [
        {
          "output_type": "stream",
          "name": "stdout",
          "text": [
            "\n",
            "Отчет о продажах по продуктам:\n",
            "Ноутбук: 1200\n",
            "Мышь: 75\n",
            "Клавиатура: 75\n",
            "Монитор: 300\n"
          ]
        }
      ]
    }
  ]
}