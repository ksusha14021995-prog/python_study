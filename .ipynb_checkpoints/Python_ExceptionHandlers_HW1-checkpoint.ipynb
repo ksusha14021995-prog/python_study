{
 "cells": [
  {
   "cell_type": "markdown",
   "id": "4fe85ae6-36f0-4fc5-8443-100bb487c398",
   "metadata": {},
   "source": [
    "### Домашняя работа по дисциплине \"Язык Python для разработчиков\""
   ]
  },
  {
   "cell_type": "markdown",
   "id": "a28e81d5-2883-4457-9fd0-8b101b3194e1",
   "metadata": {},
   "source": [
    "#### Задание 1. Обработка деления на ноль\n",
    "Напишите программу, которая принимает два числа от пользователя и выводит результат их деления. Используйте обработку исключений, чтобы корректно обработать ситуацию, когда пользователь вводит 0 в качестве второго числа."
   ]
  },
  {
   "cell_type": "code",
   "execution_count": 14,
   "id": "fc9a2fb3-1af4-4a44-9513-8d0046afbaec",
   "metadata": {
    "scrolled": true
   },
   "outputs": [
    {
     "name": "stdin",
     "output_type": "stream",
     "text": [
      " 5\n",
      " 10\n"
     ]
    },
    {
     "name": "stdout",
     "output_type": "stream",
     "text": [
      "Результат деления: 0.5\n"
     ]
    }
   ],
   "source": [
    "# Вариант через обработчик исключений\n",
    "first_number = int(input())\n",
    "second_number = int(input())\n",
    "\n",
    "if second_number == 0:\n",
    "    print('Введите число, отличное от нуля')\n",
    "else:\n",
    "    print(f'Результат деления: {first_number/second_number}')"
   ]
  },
  {
   "cell_type": "code",
   "execution_count": 17,
   "id": "9fc04767-532d-45dc-9f56-d0d067fadb0e",
   "metadata": {},
   "outputs": [
    {
     "name": "stdin",
     "output_type": "stream",
     "text": [
      " 0\n",
      " 8\n"
     ]
    },
    {
     "name": "stdout",
     "output_type": "stream",
     "text": [
      "Результат деления: 0.0\n"
     ]
    }
   ],
   "source": [
    "# Вариант через обработчик исключений\n",
    "first_number = int(input())\n",
    "second_number = int(input()) \n",
    "\n",
    "try: \n",
    "    print(f'Результат деления: {first_number/second_number}')\n",
    "except ZeroDivisionError:\n",
    "    print('Введите число, отличное от нуля')\n",
    "    "
   ]
  },
  {
   "cell_type": "markdown",
   "id": "1087b381-bfdc-4bea-b6a1-183dec9df958",
   "metadata": {},
   "source": [
    "#### Задание 2. Обработка некорректного ввода\n",
    "Расширьте предыдущую программу, чтобы она также обрабатывала ситуацию, когда пользователь вводит строку вместо числа. Используйте несколько блоков except для обработки разных типов исключений."
   ]
  },
  {
   "cell_type": "code",
   "execution_count": 28,
   "id": "0107eef7-8956-476c-97d6-df1065db5077",
   "metadata": {},
   "outputs": [
    {
     "name": "stdin",
     "output_type": "stream",
     "text": [
      " 7\n",
      " h\n"
     ]
    },
    {
     "name": "stdout",
     "output_type": "stream",
     "text": [
      "Введено некорректное значение\n"
     ]
    }
   ],
   "source": [
    "first_number = input()\n",
    "second_number = input() \n",
    "\n",
    "try: \n",
    "    result = int(first_number) / int(second_number)\n",
    "    print(f'Результат деления: {result}')\n",
    "\n",
    "except ValueError:\n",
    "    print('Введено некорректное значение')\n",
    "    \n",
    "except ZeroDivisionError:\n",
    "    print('Введите число, отличное от нуля')"
   ]
  },
  {
   "cell_type": "markdown",
   "id": "e145ca82-41cd-4160-b814-3378a60ec8dc",
   "metadata": {},
   "source": [
    "#### Задание 3. Создание собственных исключений\n",
    "Напишите программу, которая вычисляет сумму списка целых чисел. Создайте свои собственные классы исключений для обработки ситуаций, когда в списке есть хотя бы одно чётное или отрицательное число. Используйте оператор raise для генерации исключений."
   ]
  },
  {
   "cell_type": "code",
   "execution_count": 57,
   "id": "04f2ba7a-caae-4e9a-8a50-515e0cc6c57e",
   "metadata": {},
   "outputs": [
    {
     "name": "stdin",
     "output_type": "stream",
     "text": [
      "Введите список целых нечетных и положительных чисел через запятую:  a,1,5\n"
     ]
    },
    {
     "name": "stdout",
     "output_type": "stream",
     "text": [
      "['a', '1', '5']\n",
      "Некорректный ввод числа a\n",
      "6\n"
     ]
    }
   ],
   "source": [
    "user_string = (input('Введите список целых нечетных и положительных чисел через запятую: ')).split(',')\n",
    "print(user_string)\n",
    "\n",
    "total = 0\n",
    "\n",
    "class ValueIsEven (Exception):\n",
    "    pass\n",
    "\n",
    "class ValueIsNegative (Exception):\n",
    "    pass\n",
    "\n",
    "def test_value(x):\n",
    "    if x % 2 == 0:\n",
    "        raise ValueIsEven(f'Введено четное значение {x}')\n",
    "    elif x < 0:\n",
    "        raise ValueIsNegative(f'Введено отрицательное значение {x}')\n",
    "\n",
    "for i in user_string:\n",
    "    try: \n",
    "        i = int(i)\n",
    "        test_value (i)\n",
    "    except ValueError:\n",
    "        print(f'Некорректный ввод числа {i}')\n",
    "    except ValueIsEven as e: \n",
    "        print(e)\n",
    "    except ValueIsNegative as e: \n",
    "        print(e)\n",
    "\n",
    "    else:\n",
    "        total += i\n",
    "        \n",
    "        \n",
    "print(total)\n"
   ]
  },
  {
   "cell_type": "markdown",
   "id": "6bcb6d2e-aca9-480c-ad07-1d5b1bf7fdd5",
   "metadata": {},
   "source": [
    "#### Задание 4. Обработка ошибок индексации\n",
    "Напишите программу, которая принимает от пользователя индекс элемента списка и выводит значение этого элемента. Используйте обработку исключений для корректной обработки ситуаций, когда пользователь вводит индекс, выходящий за пределы списка."
   ]
  },
  {
   "cell_type": "code",
   "execution_count": 80,
   "id": "36c6c6d7-662d-4daf-b454-281f85f77cc4",
   "metadata": {},
   "outputs": [
    {
     "name": "stdin",
     "output_type": "stream",
     "text": [
      "Введите индекс элемента списка (от 1 до 20):  7\n"
     ]
    },
    {
     "name": "stdout",
     "output_type": "stream",
     "text": [
      "abc\n"
     ]
    }
   ],
   "source": [
    "user_list = [1, 3, -5, 8, 7, -2, \"abc\", 9, 0, 11, 13, -7, 4, 15, \"xyz\", 5, -9, 2, 17, 19]\n",
    "user_index = int(input(f'Введите индекс элемента списка (от 1 до {len(user_list)}): '))\n",
    "items_amount = len(user_list)\n",
    "\n",
    "try:\n",
    "    print(user_list[user_index - 1])\n",
    "except IndexError:\n",
    "    print('Данный элемент отсутствует в списке')\n",
    "\n"
   ]
  },
  {
   "cell_type": "markdown",
   "id": "12f48201-a696-41f0-8619-fccc3e0fe2e0",
   "metadata": {},
   "source": [
    "#### Задание 5. Обработка ошибок преобразования типов\n",
    "Напишите программу, которая принимает от пользователя строку и преобразует её в число с плавающей точкой. Используйте обработку исключений для корректной обработки ситуаций, когда пользователь вводит строку, которую невозможно преобразовать в число."
   ]
  },
  {
   "cell_type": "code",
   "execution_count": 78,
   "id": "09703673-94d9-419f-a3d2-6a2dfee9428e",
   "metadata": {},
   "outputs": [
    {
     "name": "stdin",
     "output_type": "stream",
     "text": [
      "Введите число:  о\n"
     ]
    },
    {
     "name": "stdout",
     "output_type": "stream",
     "text": [
      "Ошибка: невозможно преобразовать введенную строку в число\n"
     ]
    }
   ],
   "source": [
    "user_string = input('Введите число: ')\n",
    "\n",
    "try:\n",
    "    number = float(user_string)\n",
    "    print(f'Вы ввели число {number}')\n",
    "except ValueError:\n",
    "    print('Ошибка: невозможно преобразовать введенную строку в число')"
   ]
  },
  {
   "cell_type": "markdown",
   "id": "b4993bdf-a166-4787-9bb1-4b4449356a7d",
   "metadata": {},
   "source": [
    "#### Задание 6. Обработка ошибок импорта модулей\n",
    "Напишите программу, которая импортирует модуль math и использует функцию sqrt() для вычисления квадратного корня числа, введённого пользователем. Используйте обработку исключений для корректной обработки ситуаций, когда модуль math не может быть импортирован или функция sqrt() не может быть вызвана для отрицательного числа."
   ]
  },
  {
   "cell_type": "code",
   "execution_count": 101,
   "id": "6ff9cdda-7eb3-4064-ad7e-5001b5a6f515",
   "metadata": {},
   "outputs": [
    {
     "name": "stdin",
     "output_type": "stream",
     "text": [
      "Введите число:  -1\n"
     ]
    },
    {
     "name": "stdout",
     "output_type": "stream",
     "text": [
      "Введено отрицательное значение -1\n"
     ]
    }
   ],
   "source": [
    "user_number = int(input('Введите число: '))\n",
    "\n",
    "class ValueIsNegative (Exception):\n",
    "    pass\n",
    "\n",
    "def sqrt_number(x):\n",
    "    if user_number < 0:\n",
    "        raise ValueIsNegative(f'Введено отрицательное значение {x}')\n",
    "    return sqrt(x)\n",
    "    \n",
    "try: \n",
    "    from math import sqrt \n",
    "    result = sqrt_number(user_number)\n",
    "    print(result)\n",
    "\n",
    "except ValueIsNegative as e: print (e)\n",
    "\n",
    "except ImportError: \n",
    "    print ('Ошибка импорта библиотеки')\n",
    "\n"
   ]
  },
  {
   "cell_type": "code",
   "execution_count": null,
   "id": "0657d47e-7317-4b30-9cd5-973a4eb82ea2",
   "metadata": {},
   "outputs": [],
   "source": []
  }
 ],
 "metadata": {
  "kernelspec": {
   "display_name": "Python [conda env:base] *",
   "language": "python",
   "name": "conda-base-py"
  },
  "language_info": {
   "codemirror_mode": {
    "name": "ipython",
    "version": 3
   },
   "file_extension": ".py",
   "mimetype": "text/x-python",
   "name": "python",
   "nbconvert_exporter": "python",
   "pygments_lexer": "ipython3",
   "version": "3.13.5"
  }
 },
 "nbformat": 4,
 "nbformat_minor": 5
}
