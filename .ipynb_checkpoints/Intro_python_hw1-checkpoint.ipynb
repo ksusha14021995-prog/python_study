{
 "cells": [
  {
   "cell_type": "markdown",
   "id": "afdc172b-2ade-49ce-b607-3816c171e29f",
   "metadata": {},
   "source": [
    "### Задание 1. Високосеый год"
   ]
  },
  {
   "cell_type": "code",
   "execution_count": 2,
   "id": "8739235b-e518-4f0e-9fe5-da72bb5c749f",
   "metadata": {},
   "outputs": [
    {
     "name": "stdin",
     "output_type": "stream",
     "text": [
      "Введите год 2019\n"
     ]
    },
    {
     "name": "stdout",
     "output_type": "stream",
     "text": [
      "Обычный год\n"
     ]
    }
   ],
   "source": [
    "user_input_year = int(input('Введите год'))\n",
    "\n",
    "if user_input_year % 4 == 0:\n",
    "    print('Високосный год')\n",
    "else:\n",
    "    print('Обычный год')"
   ]
  },
  {
   "cell_type": "markdown",
   "id": "c19b276e-29be-45da-981a-dfdcf5928fa5",
   "metadata": {},
   "source": [
    "### Задание 2. Счастливый билет"
   ]
  },
  {
   "cell_type": "code",
   "execution_count": 9,
   "id": "79ad07d2-9c9a-41b9-866f-294f9d261f41",
   "metadata": {},
   "outputs": [
    {
     "name": "stdin",
     "output_type": "stream",
     "text": [
      "Введите шестизначное число 123345\n"
     ]
    },
    {
     "name": "stdout",
     "output_type": "stream",
     "text": [
      "Несчастливый билет\n"
     ]
    }
   ],
   "source": [
    "user_input_number = input(\"Введите шестизначное число\")\n",
    "\n",
    "if user_input_number.isdigit():\n",
    "    first_sum = (\n",
    "        int(user_input_number[0])\n",
    "        + int(user_input_number[1])\n",
    "        + int(user_input_number[2])\n",
    "    )\n",
    "    second_sum = (\n",
    "        int(user_input_number[3])\n",
    "        + int(user_input_number[4])\n",
    "        + int(user_input_number[5])\n",
    "    )\n",
    "    if first_sum == second_sum:\n",
    "        print('Счастливый билет')\n",
    "    else:\n",
    "        print('Несчастливый билет')\n",
    "\n",
    "else:\n",
    "    print(\"Некорректный ввод, введите шестизначное число\")"
   ]
  },
  {
   "cell_type": "code",
   "execution_count": 10,
   "id": "974231fd-09c9-4d64-a60f-107435ac2eac",
   "metadata": {},
   "outputs": [
    {
     "data": {
      "text/plain": [
       "'C:\\\\Users\\\\kpoluianova'"
      ]
     },
     "execution_count": 10,
     "metadata": {},
     "output_type": "execute_result"
    }
   ],
   "source": [
    "import os\n",
    "os.getcwd()"
   ]
  },
  {
   "cell_type": "code",
   "execution_count": null,
   "id": "1703c70b-bbbb-4088-842a-080b19149dde",
   "metadata": {},
   "outputs": [],
   "source": []
  }
 ],
 "metadata": {
  "kernelspec": {
   "display_name": "Python [conda env:base] *",
   "language": "python",
   "name": "conda-base-py"
  },
  "language_info": {
   "codemirror_mode": {
    "name": "ipython",
    "version": 3
   },
   "file_extension": ".py",
   "mimetype": "text/x-python",
   "name": "python",
   "nbconvert_exporter": "python",
   "pygments_lexer": "ipython3",
   "version": "3.13.5"
  }
 },
 "nbformat": 4,
 "nbformat_minor": 5
}
